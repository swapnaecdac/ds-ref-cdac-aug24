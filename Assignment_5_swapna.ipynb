{
 "cells": [
  {
   "cell_type": "markdown",
   "metadata": {},
   "source": [
    "### 1. Dataset: product-info.csv containing columns like Product ID, Product Name, Price,Quantity Sold, and Sales Date.\n",
    "### Problem: Write a Python program to calculate the total sales, average sales price, and the standard deviation of sales prices. Additionally, identify the product with the highest and lowest average sales price."
   ]
  },
  {
   "cell_type": "code",
   "execution_count": null,
   "metadata": {},
   "outputs": [],
   "source": []
  },
  {
   "cell_type": "code",
   "execution_count": 1,
   "metadata": {},
   "outputs": [],
   "source": [
    "import numpy as np\n",
    "import pandas as pd"
   ]
  },
  {
   "cell_type": "code",
   "execution_count": 3,
   "metadata": {},
   "outputs": [],
   "source": [
    "df = pd.read_csv('datasets/product-info.csv')"
   ]
  },
  {
   "cell_type": "code",
   "execution_count": 4,
   "metadata": {},
   "outputs": [
    {
     "data": {
      "text/html": [
       "<div>\n",
       "<style scoped>\n",
       "    .dataframe tbody tr th:only-of-type {\n",
       "        vertical-align: middle;\n",
       "    }\n",
       "\n",
       "    .dataframe tbody tr th {\n",
       "        vertical-align: top;\n",
       "    }\n",
       "\n",
       "    .dataframe thead th {\n",
       "        text-align: right;\n",
       "    }\n",
       "</style>\n",
       "<table border=\"1\" class=\"dataframe\">\n",
       "  <thead>\n",
       "    <tr style=\"text-align: right;\">\n",
       "      <th></th>\n",
       "      <th>Product ID</th>\n",
       "      <th>Product Name</th>\n",
       "      <th>Price</th>\n",
       "      <th>Quantity Sold</th>\n",
       "      <th>Sales Date</th>\n",
       "    </tr>\n",
       "  </thead>\n",
       "  <tbody>\n",
       "    <tr>\n",
       "      <th>0</th>\n",
       "      <td>101</td>\n",
       "      <td>Blue Jeans</td>\n",
       "      <td>59.99</td>\n",
       "      <td>20</td>\n",
       "      <td>2023-12-15</td>\n",
       "    </tr>\n",
       "    <tr>\n",
       "      <th>1</th>\n",
       "      <td>102</td>\n",
       "      <td>Red Shirt</td>\n",
       "      <td>24.99</td>\n",
       "      <td>35</td>\n",
       "      <td>2023-12-20</td>\n",
       "    </tr>\n",
       "    <tr>\n",
       "      <th>2</th>\n",
       "      <td>103</td>\n",
       "      <td>Black Shoes</td>\n",
       "      <td>79.99</td>\n",
       "      <td>15</td>\n",
       "      <td>2023-12-25</td>\n",
       "    </tr>\n",
       "    <tr>\n",
       "      <th>3</th>\n",
       "      <td>104</td>\n",
       "      <td>Green Jacket</td>\n",
       "      <td>99.99</td>\n",
       "      <td>10</td>\n",
       "      <td>2023-12-30</td>\n",
       "    </tr>\n",
       "    <tr>\n",
       "      <th>4</th>\n",
       "      <td>105</td>\n",
       "      <td>White Sneakers</td>\n",
       "      <td>64.99</td>\n",
       "      <td>25</td>\n",
       "      <td>2024-01-05</td>\n",
       "    </tr>\n",
       "    <tr>\n",
       "      <th>5</th>\n",
       "      <td>106</td>\n",
       "      <td>Gray Pants</td>\n",
       "      <td>49.99</td>\n",
       "      <td>40</td>\n",
       "      <td>2024-01-10</td>\n",
       "    </tr>\n",
       "    <tr>\n",
       "      <th>6</th>\n",
       "      <td>107</td>\n",
       "      <td>Yellow Dress</td>\n",
       "      <td>39.99</td>\n",
       "      <td>30</td>\n",
       "      <td>2024-01-15</td>\n",
       "    </tr>\n",
       "    <tr>\n",
       "      <th>7</th>\n",
       "      <td>108</td>\n",
       "      <td>Brown Belt</td>\n",
       "      <td>19.99</td>\n",
       "      <td>50</td>\n",
       "      <td>2024-01-20</td>\n",
       "    </tr>\n",
       "    <tr>\n",
       "      <th>8</th>\n",
       "      <td>109</td>\n",
       "      <td>Purple Hat</td>\n",
       "      <td>14.99</td>\n",
       "      <td>60</td>\n",
       "      <td>2024-01-25</td>\n",
       "    </tr>\n",
       "    <tr>\n",
       "      <th>9</th>\n",
       "      <td>110</td>\n",
       "      <td>Orange Socks</td>\n",
       "      <td>9.99</td>\n",
       "      <td>75</td>\n",
       "      <td>2024-01-30</td>\n",
       "    </tr>\n",
       "  </tbody>\n",
       "</table>\n",
       "</div>"
      ],
      "text/plain": [
       "   Product ID    Product Name  Price  Quantity Sold  Sales Date\n",
       "0         101      Blue Jeans  59.99             20  2023-12-15\n",
       "1         102       Red Shirt  24.99             35  2023-12-20\n",
       "2         103     Black Shoes  79.99             15  2023-12-25\n",
       "3         104    Green Jacket  99.99             10  2023-12-30\n",
       "4         105  White Sneakers  64.99             25  2024-01-05\n",
       "5         106      Gray Pants  49.99             40  2024-01-10\n",
       "6         107    Yellow Dress  39.99             30  2024-01-15\n",
       "7         108      Brown Belt  19.99             50  2024-01-20\n",
       "8         109      Purple Hat  14.99             60  2024-01-25\n",
       "9         110    Orange Socks   9.99             75  2024-01-30"
      ]
     },
     "execution_count": 4,
     "metadata": {},
     "output_type": "execute_result"
    }
   ],
   "source": [
    "df"
   ]
  },
  {
   "cell_type": "code",
   "execution_count": 8,
   "metadata": {},
   "outputs": [
    {
     "name": "stdout",
     "output_type": "stream",
     "text": [
      "Total sales: 360\n"
     ]
    }
   ],
   "source": [
    "print('Total sales: '+ str(sum(df['Quantity Sold'])))"
   ]
  },
  {
   "cell_type": "code",
   "execution_count": 10,
   "metadata": {},
   "outputs": [
    {
     "name": "stdout",
     "output_type": "stream",
     "text": [
      "avg sales price: 46.49\n"
     ]
    }
   ],
   "source": [
    "print('avg sales price: '+ str(df['Price'].mean()))"
   ]
  },
  {
   "cell_type": "code",
   "execution_count": 11,
   "metadata": {},
   "outputs": [
    {
     "name": "stdout",
     "output_type": "stream",
     "text": [
      "standard deviation of sales prices: 29.91190769948019\n"
     ]
    }
   ],
   "source": [
    "print('standard deviation of sales prices: '+ str(df['Price'].std()))"
   ]
  },
  {
   "cell_type": "code",
   "execution_count": 13,
   "metadata": {},
   "outputs": [
    {
     "name": "stdout",
     "output_type": "stream",
     "text": [
      "lowest average sales price: 9.99\n"
     ]
    }
   ],
   "source": [
    "print('lowest average sales price: '+ str(df['Price'].min()))"
   ]
  },
  {
   "cell_type": "code",
   "execution_count": 14,
   "metadata": {},
   "outputs": [
    {
     "name": "stdout",
     "output_type": "stream",
     "text": [
      "highest average sales price: 99.99\n"
     ]
    }
   ],
   "source": [
    "print('highest average sales price: '+ str(df['Price'].max()))"
   ]
  },
  {
   "cell_type": "markdown",
   "metadata": {},
   "source": [
    "###  2. Dataset: A CSV file customer-satisfaction.csv with columns such as Customer ID,Satisfaction Rating (scale of 1-10), Age, and Gender.\n",
    "### Problem: Create a Python program to calculate the mean, median, and mode of the satisfaction ratings. Analyze the data by grouping it by age groups and gender to identify any trends"
   ]
  },
  {
   "cell_type": "code",
   "execution_count": 3,
   "metadata": {},
   "outputs": [],
   "source": [
    "df1 = pd.read_csv('datasets/customer-satisfaction.csv')"
   ]
  },
  {
   "cell_type": "code",
   "execution_count": 4,
   "metadata": {},
   "outputs": [
    {
     "data": {
      "text/html": [
       "<div>\n",
       "<style scoped>\n",
       "    .dataframe tbody tr th:only-of-type {\n",
       "        vertical-align: middle;\n",
       "    }\n",
       "\n",
       "    .dataframe tbody tr th {\n",
       "        vertical-align: top;\n",
       "    }\n",
       "\n",
       "    .dataframe thead th {\n",
       "        text-align: right;\n",
       "    }\n",
       "</style>\n",
       "<table border=\"1\" class=\"dataframe\">\n",
       "  <thead>\n",
       "    <tr style=\"text-align: right;\">\n",
       "      <th></th>\n",
       "      <th>Customer ID</th>\n",
       "      <th>Satisfaction Rating</th>\n",
       "      <th>Age</th>\n",
       "      <th>Gender</th>\n",
       "    </tr>\n",
       "  </thead>\n",
       "  <tbody>\n",
       "    <tr>\n",
       "      <th>count</th>\n",
       "      <td>20.00000</td>\n",
       "      <td>20.000000</td>\n",
       "      <td>20.000000</td>\n",
       "      <td>20.000000</td>\n",
       "    </tr>\n",
       "    <tr>\n",
       "      <th>mean</th>\n",
       "      <td>10.50000</td>\n",
       "      <td>5.500000</td>\n",
       "      <td>41.450000</td>\n",
       "      <td>0.500000</td>\n",
       "    </tr>\n",
       "    <tr>\n",
       "      <th>std</th>\n",
       "      <td>5.91608</td>\n",
       "      <td>2.946898</td>\n",
       "      <td>12.513046</td>\n",
       "      <td>0.512989</td>\n",
       "    </tr>\n",
       "    <tr>\n",
       "      <th>min</th>\n",
       "      <td>1.00000</td>\n",
       "      <td>1.000000</td>\n",
       "      <td>22.000000</td>\n",
       "      <td>0.000000</td>\n",
       "    </tr>\n",
       "    <tr>\n",
       "      <th>25%</th>\n",
       "      <td>5.75000</td>\n",
       "      <td>3.000000</td>\n",
       "      <td>32.750000</td>\n",
       "      <td>0.000000</td>\n",
       "    </tr>\n",
       "    <tr>\n",
       "      <th>50%</th>\n",
       "      <td>10.50000</td>\n",
       "      <td>5.500000</td>\n",
       "      <td>39.500000</td>\n",
       "      <td>0.500000</td>\n",
       "    </tr>\n",
       "    <tr>\n",
       "      <th>75%</th>\n",
       "      <td>15.25000</td>\n",
       "      <td>8.000000</td>\n",
       "      <td>52.000000</td>\n",
       "      <td>1.000000</td>\n",
       "    </tr>\n",
       "    <tr>\n",
       "      <th>max</th>\n",
       "      <td>20.00000</td>\n",
       "      <td>10.000000</td>\n",
       "      <td>62.000000</td>\n",
       "      <td>1.000000</td>\n",
       "    </tr>\n",
       "  </tbody>\n",
       "</table>\n",
       "</div>"
      ],
      "text/plain": [
       "       Customer ID  Satisfaction Rating        Age     Gender\n",
       "count     20.00000            20.000000  20.000000  20.000000\n",
       "mean      10.50000             5.500000  41.450000   0.500000\n",
       "std        5.91608             2.946898  12.513046   0.512989\n",
       "min        1.00000             1.000000  22.000000   0.000000\n",
       "25%        5.75000             3.000000  32.750000   0.000000\n",
       "50%       10.50000             5.500000  39.500000   0.500000\n",
       "75%       15.25000             8.000000  52.000000   1.000000\n",
       "max       20.00000            10.000000  62.000000   1.000000"
      ]
     },
     "execution_count": 4,
     "metadata": {},
     "output_type": "execute_result"
    }
   ],
   "source": [
    "df1.describe()\n"
   ]
  },
  {
   "cell_type": "code",
   "execution_count": 6,
   "metadata": {},
   "outputs": [
    {
     "name": "stdout",
     "output_type": "stream",
     "text": [
      "Mean,median,mode of satisfaction ratings are : 5.55.50     1\n",
      "1     2\n",
      "2     3\n",
      "3     4\n",
      "4     5\n",
      "5     6\n",
      "6     7\n",
      "7     8\n",
      "8     9\n",
      "9    10\n",
      "Name: Satisfaction Rating, dtype: int64\n"
     ]
    }
   ],
   "source": [
    "print('Mean,median,mode of satisfaction ratings are : '+ str(df1['Satisfaction Rating'].mean())+str(df1['Satisfaction Rating'].median())+ str(df1['Satisfaction Rating'].mode()))"
   ]
  },
  {
   "cell_type": "code",
   "execution_count": 11,
   "metadata": {},
   "outputs": [],
   "source": [
    "new_df1=df1.groupby('Gender')['Age']"
   ]
  },
  {
   "cell_type": "code",
   "execution_count": 12,
   "metadata": {},
   "outputs": [
    {
     "data": {
      "text/plain": [
       "Gender\n",
       "0    38.9\n",
       "1    44.0\n",
       "Name: Age, dtype: float64"
      ]
     },
     "execution_count": 12,
     "metadata": {},
     "output_type": "execute_result"
    }
   ],
   "source": [
    "new_df1.agg(np.mean)"
   ]
  },
  {
   "cell_type": "code",
   "execution_count": 13,
   "metadata": {},
   "outputs": [
    {
     "data": {
      "text/html": [
       "<div>\n",
       "<style scoped>\n",
       "    .dataframe tbody tr th:only-of-type {\n",
       "        vertical-align: middle;\n",
       "    }\n",
       "\n",
       "    .dataframe tbody tr th {\n",
       "        vertical-align: top;\n",
       "    }\n",
       "\n",
       "    .dataframe thead th {\n",
       "        text-align: right;\n",
       "    }\n",
       "</style>\n",
       "<table border=\"1\" class=\"dataframe\">\n",
       "  <thead>\n",
       "    <tr style=\"text-align: right;\">\n",
       "      <th></th>\n",
       "      <th>Customer ID</th>\n",
       "      <th>Satisfaction Rating</th>\n",
       "      <th>Age</th>\n",
       "      <th>Gender</th>\n",
       "    </tr>\n",
       "  </thead>\n",
       "  <tbody>\n",
       "    <tr>\n",
       "      <th>0</th>\n",
       "      <td>1</td>\n",
       "      <td>8</td>\n",
       "      <td>32</td>\n",
       "      <td>0</td>\n",
       "    </tr>\n",
       "    <tr>\n",
       "      <th>1</th>\n",
       "      <td>2</td>\n",
       "      <td>7</td>\n",
       "      <td>45</td>\n",
       "      <td>1</td>\n",
       "    </tr>\n",
       "    <tr>\n",
       "      <th>2</th>\n",
       "      <td>3</td>\n",
       "      <td>9</td>\n",
       "      <td>28</td>\n",
       "      <td>0</td>\n",
       "    </tr>\n",
       "    <tr>\n",
       "      <th>3</th>\n",
       "      <td>4</td>\n",
       "      <td>6</td>\n",
       "      <td>51</td>\n",
       "      <td>1</td>\n",
       "    </tr>\n",
       "    <tr>\n",
       "      <th>4</th>\n",
       "      <td>5</td>\n",
       "      <td>10</td>\n",
       "      <td>37</td>\n",
       "      <td>0</td>\n",
       "    </tr>\n",
       "    <tr>\n",
       "      <th>5</th>\n",
       "      <td>6</td>\n",
       "      <td>5</td>\n",
       "      <td>22</td>\n",
       "      <td>1</td>\n",
       "    </tr>\n",
       "    <tr>\n",
       "      <th>6</th>\n",
       "      <td>7</td>\n",
       "      <td>4</td>\n",
       "      <td>60</td>\n",
       "      <td>0</td>\n",
       "    </tr>\n",
       "    <tr>\n",
       "      <th>7</th>\n",
       "      <td>8</td>\n",
       "      <td>3</td>\n",
       "      <td>42</td>\n",
       "      <td>1</td>\n",
       "    </tr>\n",
       "    <tr>\n",
       "      <th>8</th>\n",
       "      <td>9</td>\n",
       "      <td>2</td>\n",
       "      <td>35</td>\n",
       "      <td>0</td>\n",
       "    </tr>\n",
       "    <tr>\n",
       "      <th>9</th>\n",
       "      <td>10</td>\n",
       "      <td>1</td>\n",
       "      <td>58</td>\n",
       "      <td>1</td>\n",
       "    </tr>\n",
       "    <tr>\n",
       "      <th>10</th>\n",
       "      <td>11</td>\n",
       "      <td>8</td>\n",
       "      <td>27</td>\n",
       "      <td>0</td>\n",
       "    </tr>\n",
       "    <tr>\n",
       "      <th>11</th>\n",
       "      <td>12</td>\n",
       "      <td>7</td>\n",
       "      <td>40</td>\n",
       "      <td>1</td>\n",
       "    </tr>\n",
       "    <tr>\n",
       "      <th>12</th>\n",
       "      <td>13</td>\n",
       "      <td>9</td>\n",
       "      <td>33</td>\n",
       "      <td>0</td>\n",
       "    </tr>\n",
       "    <tr>\n",
       "      <th>13</th>\n",
       "      <td>14</td>\n",
       "      <td>6</td>\n",
       "      <td>55</td>\n",
       "      <td>1</td>\n",
       "    </tr>\n",
       "    <tr>\n",
       "      <th>14</th>\n",
       "      <td>15</td>\n",
       "      <td>10</td>\n",
       "      <td>39</td>\n",
       "      <td>0</td>\n",
       "    </tr>\n",
       "    <tr>\n",
       "      <th>15</th>\n",
       "      <td>16</td>\n",
       "      <td>5</td>\n",
       "      <td>24</td>\n",
       "      <td>1</td>\n",
       "    </tr>\n",
       "    <tr>\n",
       "      <th>16</th>\n",
       "      <td>17</td>\n",
       "      <td>4</td>\n",
       "      <td>62</td>\n",
       "      <td>0</td>\n",
       "    </tr>\n",
       "    <tr>\n",
       "      <th>17</th>\n",
       "      <td>18</td>\n",
       "      <td>3</td>\n",
       "      <td>44</td>\n",
       "      <td>1</td>\n",
       "    </tr>\n",
       "    <tr>\n",
       "      <th>18</th>\n",
       "      <td>19</td>\n",
       "      <td>2</td>\n",
       "      <td>36</td>\n",
       "      <td>0</td>\n",
       "    </tr>\n",
       "    <tr>\n",
       "      <th>19</th>\n",
       "      <td>20</td>\n",
       "      <td>1</td>\n",
       "      <td>59</td>\n",
       "      <td>1</td>\n",
       "    </tr>\n",
       "  </tbody>\n",
       "</table>\n",
       "</div>"
      ],
      "text/plain": [
       "    Customer ID  Satisfaction Rating  Age  Gender\n",
       "0             1                    8   32       0\n",
       "1             2                    7   45       1\n",
       "2             3                    9   28       0\n",
       "3             4                    6   51       1\n",
       "4             5                   10   37       0\n",
       "5             6                    5   22       1\n",
       "6             7                    4   60       0\n",
       "7             8                    3   42       1\n",
       "8             9                    2   35       0\n",
       "9            10                    1   58       1\n",
       "10           11                    8   27       0\n",
       "11           12                    7   40       1\n",
       "12           13                    9   33       0\n",
       "13           14                    6   55       1\n",
       "14           15                   10   39       0\n",
       "15           16                    5   24       1\n",
       "16           17                    4   62       0\n",
       "17           18                    3   44       1\n",
       "18           19                    2   36       0\n",
       "19           20                    1   59       1"
      ]
     },
     "execution_count": 13,
     "metadata": {},
     "output_type": "execute_result"
    }
   ],
   "source": [
    "df1"
   ]
  },
  {
   "cell_type": "code",
   "execution_count": 15,
   "metadata": {},
   "outputs": [
    {
     "name": "stdout",
     "output_type": "stream",
     "text": [
      "            Age           \n",
      "          count       mean\n",
      "Age Group                 \n",
      "<18           0        NaN\n",
      "18-30         4  25.250000\n",
      "30-45         9  37.555556\n",
      "45-60         5  53.600000\n",
      "60+           2  61.000000\n"
     ]
    }
   ],
   "source": [
    "# Define age groups\n",
    "bins = [0, 18, 30, 45, 60, 100]\n",
    "labels = ['<18', '18-30', '30-45', '45-60', '60+']\n",
    "\n",
    "# Create a new column with age groups\n",
    "df1['Age Group'] = pd.cut(df1['Age'], bins=bins, labels=labels, right=False)\n",
    "\n",
    "# Group by age group and calculate statistics\n",
    "grouped = df1.groupby('Age Group').agg({'Age': ['count', 'mean']})\n",
    "\n",
    "print(grouped)"
   ]
  },
  {
   "cell_type": "code",
   "execution_count": 18,
   "metadata": {},
   "outputs": [
    {
     "name": "stdout",
     "output_type": "stream",
     "text": [
      "                  Satisfaction Rating\n",
      "Age Group Gender                     \n",
      "20-29     0                  8.500000\n",
      "          1                  5.000000\n",
      "30-39     0                  6.833333\n",
      "          1                  7.000000\n",
      "40-49     0                       NaN\n",
      "          1                  4.333333\n"
     ]
    }
   ],
   "source": [
    "# Define age groups\n",
    "bins = [20, 30, 40, 50]\n",
    "labels = ['20-29', '30-39', '40-49']\n",
    "df1['Age Group'] = pd.cut(df1['Age'], bins=bins, labels=labels)\n",
    "\n",
    "# Group by age group and gender\n",
    "grouped = df1.groupby(['Age Group', 'Gender']).agg({'Satisfaction Rating': 'mean'})\n",
    "\n",
    "print(grouped)"
   ]
  },
  {
   "cell_type": "code",
   "execution_count": null,
   "metadata": {},
   "outputs": [],
   "source": []
  },
  {
   "cell_type": "code",
   "execution_count": 16,
   "metadata": {},
   "outputs": [],
   "source": [
    "df2 = pd.read_csv('datasets/customers.csv')"
   ]
  },
  {
   "cell_type": "code",
   "execution_count": 18,
   "metadata": {},
   "outputs": [
    {
     "data": {
      "text/html": [
       "<div>\n",
       "<style scoped>\n",
       "    .dataframe tbody tr th:only-of-type {\n",
       "        vertical-align: middle;\n",
       "    }\n",
       "\n",
       "    .dataframe tbody tr th {\n",
       "        vertical-align: top;\n",
       "    }\n",
       "\n",
       "    .dataframe thead th {\n",
       "        text-align: right;\n",
       "    }\n",
       "</style>\n",
       "<table border=\"1\" class=\"dataframe\">\n",
       "  <thead>\n",
       "    <tr style=\"text-align: right;\">\n",
       "      <th></th>\n",
       "      <th>Avg. Session Length</th>\n",
       "      <th>Time on App</th>\n",
       "      <th>Time on Website</th>\n",
       "      <th>Length of Membership</th>\n",
       "      <th>Yearly Amount Spent</th>\n",
       "    </tr>\n",
       "  </thead>\n",
       "  <tbody>\n",
       "    <tr>\n",
       "      <th>count</th>\n",
       "      <td>500.000000</td>\n",
       "      <td>500.000000</td>\n",
       "      <td>500.000000</td>\n",
       "      <td>500.000000</td>\n",
       "      <td>500.000000</td>\n",
       "    </tr>\n",
       "    <tr>\n",
       "      <th>mean</th>\n",
       "      <td>33.053194</td>\n",
       "      <td>12.052488</td>\n",
       "      <td>37.060445</td>\n",
       "      <td>3.533462</td>\n",
       "      <td>499.314038</td>\n",
       "    </tr>\n",
       "    <tr>\n",
       "      <th>std</th>\n",
       "      <td>0.992563</td>\n",
       "      <td>0.994216</td>\n",
       "      <td>1.010489</td>\n",
       "      <td>0.999278</td>\n",
       "      <td>79.314782</td>\n",
       "    </tr>\n",
       "    <tr>\n",
       "      <th>min</th>\n",
       "      <td>29.532429</td>\n",
       "      <td>8.508152</td>\n",
       "      <td>33.913847</td>\n",
       "      <td>0.269901</td>\n",
       "      <td>256.670582</td>\n",
       "    </tr>\n",
       "    <tr>\n",
       "      <th>25%</th>\n",
       "      <td>32.341822</td>\n",
       "      <td>11.388153</td>\n",
       "      <td>36.349257</td>\n",
       "      <td>2.930450</td>\n",
       "      <td>445.038277</td>\n",
       "    </tr>\n",
       "    <tr>\n",
       "      <th>50%</th>\n",
       "      <td>33.082008</td>\n",
       "      <td>11.983231</td>\n",
       "      <td>37.069367</td>\n",
       "      <td>3.533975</td>\n",
       "      <td>498.887875</td>\n",
       "    </tr>\n",
       "    <tr>\n",
       "      <th>75%</th>\n",
       "      <td>33.711985</td>\n",
       "      <td>12.753850</td>\n",
       "      <td>37.716432</td>\n",
       "      <td>4.126502</td>\n",
       "      <td>549.313828</td>\n",
       "    </tr>\n",
       "    <tr>\n",
       "      <th>max</th>\n",
       "      <td>36.139662</td>\n",
       "      <td>15.126994</td>\n",
       "      <td>40.005182</td>\n",
       "      <td>6.922689</td>\n",
       "      <td>765.518462</td>\n",
       "    </tr>\n",
       "  </tbody>\n",
       "</table>\n",
       "</div>"
      ],
      "text/plain": [
       "       Avg. Session Length  Time on App  Time on Website  \\\n",
       "count           500.000000   500.000000       500.000000   \n",
       "mean             33.053194    12.052488        37.060445   \n",
       "std               0.992563     0.994216         1.010489   \n",
       "min              29.532429     8.508152        33.913847   \n",
       "25%              32.341822    11.388153        36.349257   \n",
       "50%              33.082008    11.983231        37.069367   \n",
       "75%              33.711985    12.753850        37.716432   \n",
       "max              36.139662    15.126994        40.005182   \n",
       "\n",
       "       Length of Membership  Yearly Amount Spent  \n",
       "count            500.000000           500.000000  \n",
       "mean               3.533462           499.314038  \n",
       "std                0.999278            79.314782  \n",
       "min                0.269901           256.670582  \n",
       "25%                2.930450           445.038277  \n",
       "50%                3.533975           498.887875  \n",
       "75%                4.126502           549.313828  \n",
       "max                6.922689           765.518462  "
      ]
     },
     "execution_count": 18,
     "metadata": {},
     "output_type": "execute_result"
    }
   ],
   "source": [
    "df2.describe()"
   ]
  },
  {
   "cell_type": "code",
   "execution_count": 21,
   "metadata": {},
   "outputs": [
    {
     "data": {
      "text/plain": [
       "(765.5184619388373, 256.67058229005585, 249657.01912929525)"
      ]
     },
     "execution_count": 21,
     "metadata": {},
     "output_type": "execute_result"
    }
   ],
   "source": [
    "df2['Yearly Amount Spent'].max(), df2['Yearly Amount Spent'].min(), df2['Yearly Amount Spent'].sum()"
   ]
  },
  {
   "cell_type": "code",
   "execution_count": 26,
   "metadata": {},
   "outputs": [
    {
     "data": {
      "text/plain": [
       "(499.3140382585909, 498.88787546911493)"
      ]
     },
     "execution_count": 26,
     "metadata": {},
     "output_type": "execute_result"
    }
   ],
   "source": [
    " df2['Yearly Amount Spent'].mean(), df2['Yearly Amount Spent'].median(), "
   ]
  },
  {
   "cell_type": "code",
   "execution_count": 25,
   "metadata": {},
   "outputs": [
    {
     "data": {
      "text/plain": [
       "0      256.670582\n",
       "1      266.086341\n",
       "2      275.918421\n",
       "3      282.471246\n",
       "4      298.762008\n",
       "          ...    \n",
       "495    708.935185\n",
       "496    712.396327\n",
       "497    725.584814\n",
       "498    744.221867\n",
       "499    765.518462\n",
       "Length: 500, dtype: float64"
      ]
     },
     "execution_count": 25,
     "metadata": {},
     "output_type": "execute_result"
    }
   ],
   "source": [
    "df2['Yearly Amount Spent'].mode()"
   ]
  },
  {
   "cell_type": "code",
   "execution_count": null,
   "metadata": {},
   "outputs": [],
   "source": []
  },
  {
   "cell_type": "code",
   "execution_count": 24,
   "metadata": {},
   "outputs": [
    {
     "data": {
      "text/plain": [
       "79.31478154970677"
      ]
     },
     "execution_count": 24,
     "metadata": {},
     "output_type": "execute_result"
    }
   ],
   "source": [
    "df2['Yearly Amount Spent'].std()"
   ]
  },
  {
   "cell_type": "markdown",
   "metadata": {},
   "source": [
    "### 3. Dataset: A CSV file house-info.csv containing columns such as House ID, Location, Number of Bedrooms, Square Footage, and Price.\n",
    "### Problem: Develop a Python program to calculate the first, second (median), and third quartiles of house prices. Also, compute the interquartile range (IQR) and identify any outliers in the dataset"
   ]
  },
  {
   "cell_type": "code",
   "execution_count": 27,
   "metadata": {},
   "outputs": [],
   "source": [
    "df3 = pd.read_csv('datasets/house-info.csv')"
   ]
  },
  {
   "cell_type": "code",
   "execution_count": 28,
   "metadata": {},
   "outputs": [
    {
     "data": {
      "text/html": [
       "<div>\n",
       "<style scoped>\n",
       "    .dataframe tbody tr th:only-of-type {\n",
       "        vertical-align: middle;\n",
       "    }\n",
       "\n",
       "    .dataframe tbody tr th {\n",
       "        vertical-align: top;\n",
       "    }\n",
       "\n",
       "    .dataframe thead th {\n",
       "        text-align: right;\n",
       "    }\n",
       "</style>\n",
       "<table border=\"1\" class=\"dataframe\">\n",
       "  <thead>\n",
       "    <tr style=\"text-align: right;\">\n",
       "      <th></th>\n",
       "      <th>House ID</th>\n",
       "      <th>Location</th>\n",
       "      <th>Number of Bedrooms</th>\n",
       "      <th>Square Footage</th>\n",
       "      <th>Price</th>\n",
       "    </tr>\n",
       "  </thead>\n",
       "  <tbody>\n",
       "    <tr>\n",
       "      <th>0</th>\n",
       "      <td>1</td>\n",
       "      <td>Suburban</td>\n",
       "      <td>3</td>\n",
       "      <td>1800</td>\n",
       "      <td>$350,000</td>\n",
       "    </tr>\n",
       "    <tr>\n",
       "      <th>1</th>\n",
       "      <td>2</td>\n",
       "      <td>Urban</td>\n",
       "      <td>2</td>\n",
       "      <td>1200</td>\n",
       "      <td>$280,000</td>\n",
       "    </tr>\n",
       "    <tr>\n",
       "      <th>2</th>\n",
       "      <td>3</td>\n",
       "      <td>Rural</td>\n",
       "      <td>4</td>\n",
       "      <td>2500</td>\n",
       "      <td>$400,000</td>\n",
       "    </tr>\n",
       "    <tr>\n",
       "      <th>3</th>\n",
       "      <td>4</td>\n",
       "      <td>Suburban</td>\n",
       "      <td>3</td>\n",
       "      <td>1600</td>\n",
       "      <td>$320,000</td>\n",
       "    </tr>\n",
       "    <tr>\n",
       "      <th>4</th>\n",
       "      <td>5</td>\n",
       "      <td>Urban</td>\n",
       "      <td>1</td>\n",
       "      <td>800</td>\n",
       "      <td>$200,000</td>\n",
       "    </tr>\n",
       "    <tr>\n",
       "      <th>5</th>\n",
       "      <td>6</td>\n",
       "      <td>Rural</td>\n",
       "      <td>5</td>\n",
       "      <td>3000</td>\n",
       "      <td>$450,000</td>\n",
       "    </tr>\n",
       "    <tr>\n",
       "      <th>6</th>\n",
       "      <td>7</td>\n",
       "      <td>Suburban</td>\n",
       "      <td>2</td>\n",
       "      <td>1400</td>\n",
       "      <td>$290,000</td>\n",
       "    </tr>\n",
       "    <tr>\n",
       "      <th>7</th>\n",
       "      <td>8</td>\n",
       "      <td>Urban</td>\n",
       "      <td>3</td>\n",
       "      <td>1600</td>\n",
       "      <td>$310,000</td>\n",
       "    </tr>\n",
       "    <tr>\n",
       "      <th>8</th>\n",
       "      <td>9</td>\n",
       "      <td>Rural</td>\n",
       "      <td>4</td>\n",
       "      <td>2800</td>\n",
       "      <td>$420,000</td>\n",
       "    </tr>\n",
       "    <tr>\n",
       "      <th>9</th>\n",
       "      <td>10</td>\n",
       "      <td>Suburban</td>\n",
       "      <td>3</td>\n",
       "      <td>1700</td>\n",
       "      <td>$330,000</td>\n",
       "    </tr>\n",
       "    <tr>\n",
       "      <th>10</th>\n",
       "      <td>11</td>\n",
       "      <td>Urban</td>\n",
       "      <td>2</td>\n",
       "      <td>1100</td>\n",
       "      <td>$270,000</td>\n",
       "    </tr>\n",
       "    <tr>\n",
       "      <th>11</th>\n",
       "      <td>12</td>\n",
       "      <td>Rural</td>\n",
       "      <td>5</td>\n",
       "      <td>3200</td>\n",
       "      <td>$470,000</td>\n",
       "    </tr>\n",
       "    <tr>\n",
       "      <th>12</th>\n",
       "      <td>13</td>\n",
       "      <td>Suburban</td>\n",
       "      <td>3</td>\n",
       "      <td>1500</td>\n",
       "      <td>$900,000</td>\n",
       "    </tr>\n",
       "    <tr>\n",
       "      <th>13</th>\n",
       "      <td>14</td>\n",
       "      <td>Urban</td>\n",
       "      <td>1</td>\n",
       "      <td>900</td>\n",
       "      <td>$210,000</td>\n",
       "    </tr>\n",
       "    <tr>\n",
       "      <th>14</th>\n",
       "      <td>15</td>\n",
       "      <td>Rural</td>\n",
       "      <td>4</td>\n",
       "      <td>9600</td>\n",
       "      <td>$410,000</td>\n",
       "    </tr>\n",
       "    <tr>\n",
       "      <th>15</th>\n",
       "      <td>16</td>\n",
       "      <td>Suburban</td>\n",
       "      <td>3</td>\n",
       "      <td>1800</td>\n",
       "      <td>$340,000</td>\n",
       "    </tr>\n",
       "    <tr>\n",
       "      <th>16</th>\n",
       "      <td>17</td>\n",
       "      <td>Urban</td>\n",
       "      <td>2</td>\n",
       "      <td>1200</td>\n",
       "      <td>$280,000</td>\n",
       "    </tr>\n",
       "    <tr>\n",
       "      <th>17</th>\n",
       "      <td>18</td>\n",
       "      <td>Rural</td>\n",
       "      <td>5</td>\n",
       "      <td>2500</td>\n",
       "      <td>$400,000</td>\n",
       "    </tr>\n",
       "    <tr>\n",
       "      <th>18</th>\n",
       "      <td>19</td>\n",
       "      <td>Suburban</td>\n",
       "      <td>3</td>\n",
       "      <td>1600</td>\n",
       "      <td>$320,000</td>\n",
       "    </tr>\n",
       "    <tr>\n",
       "      <th>19</th>\n",
       "      <td>20</td>\n",
       "      <td>Urban</td>\n",
       "      <td>1</td>\n",
       "      <td>800</td>\n",
       "      <td>$200,000</td>\n",
       "    </tr>\n",
       "    <tr>\n",
       "      <th>20</th>\n",
       "      <td>21</td>\n",
       "      <td>Rural</td>\n",
       "      <td>4</td>\n",
       "      <td>3000</td>\n",
       "      <td>$950,000</td>\n",
       "    </tr>\n",
       "    <tr>\n",
       "      <th>21</th>\n",
       "      <td>22</td>\n",
       "      <td>Suburban</td>\n",
       "      <td>2</td>\n",
       "      <td>1400</td>\n",
       "      <td>$290,000</td>\n",
       "    </tr>\n",
       "    <tr>\n",
       "      <th>22</th>\n",
       "      <td>23</td>\n",
       "      <td>Urban</td>\n",
       "      <td>3</td>\n",
       "      <td>1600</td>\n",
       "      <td>$310,000</td>\n",
       "    </tr>\n",
       "    <tr>\n",
       "      <th>23</th>\n",
       "      <td>24</td>\n",
       "      <td>Rural</td>\n",
       "      <td>4</td>\n",
       "      <td>2800</td>\n",
       "      <td>$420,000</td>\n",
       "    </tr>\n",
       "    <tr>\n",
       "      <th>24</th>\n",
       "      <td>25</td>\n",
       "      <td>Suburban</td>\n",
       "      <td>3</td>\n",
       "      <td>1700</td>\n",
       "      <td>$330,000</td>\n",
       "    </tr>\n",
       "  </tbody>\n",
       "</table>\n",
       "</div>"
      ],
      "text/plain": [
       "    House ID  Location  Number of Bedrooms  Square Footage     Price\n",
       "0          1  Suburban                   3            1800  $350,000\n",
       "1          2     Urban                   2            1200  $280,000\n",
       "2          3     Rural                   4            2500  $400,000\n",
       "3          4  Suburban                   3            1600  $320,000\n",
       "4          5     Urban                   1             800  $200,000\n",
       "5          6     Rural                   5            3000  $450,000\n",
       "6          7  Suburban                   2            1400  $290,000\n",
       "7          8     Urban                   3            1600  $310,000\n",
       "8          9     Rural                   4            2800  $420,000\n",
       "9         10  Suburban                   3            1700  $330,000\n",
       "10        11     Urban                   2            1100  $270,000\n",
       "11        12     Rural                   5            3200  $470,000\n",
       "12        13  Suburban                   3            1500  $900,000\n",
       "13        14     Urban                   1             900  $210,000\n",
       "14        15     Rural                   4            9600  $410,000\n",
       "15        16  Suburban                   3            1800  $340,000\n",
       "16        17     Urban                   2            1200  $280,000\n",
       "17        18     Rural                   5            2500  $400,000\n",
       "18        19  Suburban                   3            1600  $320,000\n",
       "19        20     Urban                   1             800  $200,000\n",
       "20        21     Rural                   4            3000  $950,000\n",
       "21        22  Suburban                   2            1400  $290,000\n",
       "22        23     Urban                   3            1600  $310,000\n",
       "23        24     Rural                   4            2800  $420,000\n",
       "24        25  Suburban                   3            1700  $330,000"
      ]
     },
     "execution_count": 28,
     "metadata": {},
     "output_type": "execute_result"
    }
   ],
   "source": [
    "df3"
   ]
  },
  {
   "cell_type": "code",
   "execution_count": 40,
   "metadata": {},
   "outputs": [
    {
     "data": {
      "text/plain": [
       "330000.0"
      ]
     },
     "execution_count": 40,
     "metadata": {},
     "output_type": "execute_result"
    }
   ],
   "source": [
    "(df3['Price'].str.lstrip('$')).str.replace(',', '').median()"
   ]
  },
  {
   "cell_type": "code",
   "execution_count": 44,
   "metadata": {},
   "outputs": [],
   "source": [
    "num=(df3['Price'].str.lstrip('$')).str.replace(',', '').astype(int)"
   ]
  },
  {
   "cell_type": "code",
   "execution_count": 45,
   "metadata": {},
   "outputs": [
    {
     "data": {
      "text/plain": [
       "(290000.0, 330000.0, 410000.0)"
      ]
     },
     "execution_count": 45,
     "metadata": {},
     "output_type": "execute_result"
    }
   ],
   "source": [
    "np.percentile(num, 25), np.percentile(num, 50), np.percentile(num, 75),"
   ]
  },
  {
   "cell_type": "code",
   "execution_count": 46,
   "metadata": {},
   "outputs": [],
   "source": [
    "Q1 = np.percentile(num, 25)\n",
    "Q3 = np.percentile(num, 75)\n",
    "\n",
    "IQR = Q3 - Q1\n",
    "upper_fence = Q3 + 1.5 * IQR\n",
    "lower_fence = Q1 - 1.5 * IQR"
   ]
  },
  {
   "cell_type": "code",
   "execution_count": 47,
   "metadata": {},
   "outputs": [
    {
     "data": {
      "text/plain": [
       "12    900000\n",
       "20    950000\n",
       "Name: Price, dtype: int32"
      ]
     },
     "execution_count": 47,
     "metadata": {},
     "output_type": "execute_result"
    }
   ],
   "source": [
    "num[num > upper_fence]"
   ]
  },
  {
   "cell_type": "code",
   "execution_count": 48,
   "metadata": {},
   "outputs": [
    {
     "data": {
      "text/plain": [
       "(110000.0, 590000.0)"
      ]
     },
     "execution_count": 48,
     "metadata": {},
     "output_type": "execute_result"
    }
   ],
   "source": [
    "lower_fence, upper_fence"
   ]
  },
  {
   "cell_type": "markdown",
   "metadata": {},
   "source": [
    "### 4. Dataset: A CSV file visitor-info.csv with columns such as Date, Number of Visitors, Average Session Duration, Bounce Rate, and Conversion Rate.\n",
    "### Problem: Create a Python program to analyze the average, minimum, and maximum number of visitors per day. Investigate the relationship between bounce rate and conversion rate using correlation analysis"
   ]
  },
  {
   "cell_type": "code",
   "execution_count": 49,
   "metadata": {},
   "outputs": [],
   "source": [
    "df4 = pd.read_csv('datasets/visitor-info.csv')"
   ]
  },
  {
   "cell_type": "code",
   "execution_count": 50,
   "metadata": {},
   "outputs": [
    {
     "data": {
      "text/html": [
       "<div>\n",
       "<style scoped>\n",
       "    .dataframe tbody tr th:only-of-type {\n",
       "        vertical-align: middle;\n",
       "    }\n",
       "\n",
       "    .dataframe tbody tr th {\n",
       "        vertical-align: top;\n",
       "    }\n",
       "\n",
       "    .dataframe thead th {\n",
       "        text-align: right;\n",
       "    }\n",
       "</style>\n",
       "<table border=\"1\" class=\"dataframe\">\n",
       "  <thead>\n",
       "    <tr style=\"text-align: right;\">\n",
       "      <th></th>\n",
       "      <th>Date</th>\n",
       "      <th>Number of Visitors</th>\n",
       "      <th>Average Session Duration (seconds)</th>\n",
       "      <th>Bounce Rate (%)</th>\n",
       "      <th>Conversion Rate (%)</th>\n",
       "    </tr>\n",
       "  </thead>\n",
       "  <tbody>\n",
       "    <tr>\n",
       "      <th>0</th>\n",
       "      <td>2023-12-01</td>\n",
       "      <td>5000</td>\n",
       "      <td>120</td>\n",
       "      <td>25</td>\n",
       "      <td>2.0</td>\n",
       "    </tr>\n",
       "    <tr>\n",
       "      <th>1</th>\n",
       "      <td>2023-12-02</td>\n",
       "      <td>4500</td>\n",
       "      <td>130</td>\n",
       "      <td>22</td>\n",
       "      <td>3.0</td>\n",
       "    </tr>\n",
       "    <tr>\n",
       "      <th>2</th>\n",
       "      <td>2023-12-03</td>\n",
       "      <td>5500</td>\n",
       "      <td>115</td>\n",
       "      <td>28</td>\n",
       "      <td>1.5</td>\n",
       "    </tr>\n",
       "    <tr>\n",
       "      <th>3</th>\n",
       "      <td>2023-12-04</td>\n",
       "      <td>6000</td>\n",
       "      <td>125</td>\n",
       "      <td>20</td>\n",
       "      <td>2.5</td>\n",
       "    </tr>\n",
       "    <tr>\n",
       "      <th>4</th>\n",
       "      <td>2023-12-05</td>\n",
       "      <td>4800</td>\n",
       "      <td>135</td>\n",
       "      <td>23</td>\n",
       "      <td>2.0</td>\n",
       "    </tr>\n",
       "    <tr>\n",
       "      <th>5</th>\n",
       "      <td>2023-12-06</td>\n",
       "      <td>5200</td>\n",
       "      <td>120</td>\n",
       "      <td>25</td>\n",
       "      <td>2.2</td>\n",
       "    </tr>\n",
       "    <tr>\n",
       "      <th>6</th>\n",
       "      <td>2023-12-07</td>\n",
       "      <td>4700</td>\n",
       "      <td>130</td>\n",
       "      <td>22</td>\n",
       "      <td>2.8</td>\n",
       "    </tr>\n",
       "    <tr>\n",
       "      <th>7</th>\n",
       "      <td>2023-12-08</td>\n",
       "      <td>5600</td>\n",
       "      <td>115</td>\n",
       "      <td>28</td>\n",
       "      <td>1.7</td>\n",
       "    </tr>\n",
       "    <tr>\n",
       "      <th>8</th>\n",
       "      <td>2023-12-09</td>\n",
       "      <td>6200</td>\n",
       "      <td>125</td>\n",
       "      <td>20</td>\n",
       "      <td>2.7</td>\n",
       "    </tr>\n",
       "    <tr>\n",
       "      <th>9</th>\n",
       "      <td>2023-12-10</td>\n",
       "      <td>4900</td>\n",
       "      <td>135</td>\n",
       "      <td>23</td>\n",
       "      <td>2.1</td>\n",
       "    </tr>\n",
       "    <tr>\n",
       "      <th>10</th>\n",
       "      <td>2023-12-11</td>\n",
       "      <td>5100</td>\n",
       "      <td>120</td>\n",
       "      <td>25</td>\n",
       "      <td>2.3</td>\n",
       "    </tr>\n",
       "    <tr>\n",
       "      <th>11</th>\n",
       "      <td>2023-12-12</td>\n",
       "      <td>4600</td>\n",
       "      <td>130</td>\n",
       "      <td>22</td>\n",
       "      <td>2.9</td>\n",
       "    </tr>\n",
       "    <tr>\n",
       "      <th>12</th>\n",
       "      <td>2023-12-13</td>\n",
       "      <td>5400</td>\n",
       "      <td>115</td>\n",
       "      <td>28</td>\n",
       "      <td>1.8</td>\n",
       "    </tr>\n",
       "    <tr>\n",
       "      <th>13</th>\n",
       "      <td>2023-12-14</td>\n",
       "      <td>6100</td>\n",
       "      <td>125</td>\n",
       "      <td>20</td>\n",
       "      <td>2.6</td>\n",
       "    </tr>\n",
       "    <tr>\n",
       "      <th>14</th>\n",
       "      <td>2023-12-15</td>\n",
       "      <td>5000</td>\n",
       "      <td>135</td>\n",
       "      <td>23</td>\n",
       "      <td>2.2</td>\n",
       "    </tr>\n",
       "    <tr>\n",
       "      <th>15</th>\n",
       "      <td>2023-12-16</td>\n",
       "      <td>4500</td>\n",
       "      <td>120</td>\n",
       "      <td>25</td>\n",
       "      <td>2.4</td>\n",
       "    </tr>\n",
       "    <tr>\n",
       "      <th>16</th>\n",
       "      <td>2023-12-17</td>\n",
       "      <td>5500</td>\n",
       "      <td>130</td>\n",
       "      <td>22</td>\n",
       "      <td>2.7</td>\n",
       "    </tr>\n",
       "    <tr>\n",
       "      <th>17</th>\n",
       "      <td>2023-12-18</td>\n",
       "      <td>6000</td>\n",
       "      <td>115</td>\n",
       "      <td>28</td>\n",
       "      <td>1.6</td>\n",
       "    </tr>\n",
       "    <tr>\n",
       "      <th>18</th>\n",
       "      <td>2023-12-19</td>\n",
       "      <td>4800</td>\n",
       "      <td>125</td>\n",
       "      <td>20</td>\n",
       "      <td>2.5</td>\n",
       "    </tr>\n",
       "    <tr>\n",
       "      <th>19</th>\n",
       "      <td>2023-12-20</td>\n",
       "      <td>5200</td>\n",
       "      <td>135</td>\n",
       "      <td>23</td>\n",
       "      <td>2.1</td>\n",
       "    </tr>\n",
       "    <tr>\n",
       "      <th>20</th>\n",
       "      <td>2023-12-21</td>\n",
       "      <td>4700</td>\n",
       "      <td>120</td>\n",
       "      <td>25</td>\n",
       "      <td>2.3</td>\n",
       "    </tr>\n",
       "    <tr>\n",
       "      <th>21</th>\n",
       "      <td>2023-12-22</td>\n",
       "      <td>5600</td>\n",
       "      <td>130</td>\n",
       "      <td>22</td>\n",
       "      <td>2.9</td>\n",
       "    </tr>\n",
       "    <tr>\n",
       "      <th>22</th>\n",
       "      <td>2023-12-23</td>\n",
       "      <td>6200</td>\n",
       "      <td>115</td>\n",
       "      <td>28</td>\n",
       "      <td>1.8</td>\n",
       "    </tr>\n",
       "    <tr>\n",
       "      <th>23</th>\n",
       "      <td>2023-12-24</td>\n",
       "      <td>4900</td>\n",
       "      <td>125</td>\n",
       "      <td>20</td>\n",
       "      <td>2.6</td>\n",
       "    </tr>\n",
       "    <tr>\n",
       "      <th>24</th>\n",
       "      <td>2023-12-25</td>\n",
       "      <td>5100</td>\n",
       "      <td>135</td>\n",
       "      <td>23</td>\n",
       "      <td>2.2</td>\n",
       "    </tr>\n",
       "    <tr>\n",
       "      <th>25</th>\n",
       "      <td>2023-12-26</td>\n",
       "      <td>4600</td>\n",
       "      <td>120</td>\n",
       "      <td>25</td>\n",
       "      <td>2.4</td>\n",
       "    </tr>\n",
       "    <tr>\n",
       "      <th>26</th>\n",
       "      <td>2023-12-27</td>\n",
       "      <td>5400</td>\n",
       "      <td>130</td>\n",
       "      <td>22</td>\n",
       "      <td>2.7</td>\n",
       "    </tr>\n",
       "    <tr>\n",
       "      <th>27</th>\n",
       "      <td>2023-12-28</td>\n",
       "      <td>6100</td>\n",
       "      <td>115</td>\n",
       "      <td>28</td>\n",
       "      <td>1.6</td>\n",
       "    </tr>\n",
       "    <tr>\n",
       "      <th>28</th>\n",
       "      <td>2023-12-29</td>\n",
       "      <td>5000</td>\n",
       "      <td>125</td>\n",
       "      <td>20</td>\n",
       "      <td>2.5</td>\n",
       "    </tr>\n",
       "  </tbody>\n",
       "</table>\n",
       "</div>"
      ],
      "text/plain": [
       "          Date  Number of Visitors  Average Session Duration (seconds)  \\\n",
       "0   2023-12-01                5000                                 120   \n",
       "1   2023-12-02                4500                                 130   \n",
       "2   2023-12-03                5500                                 115   \n",
       "3   2023-12-04                6000                                 125   \n",
       "4   2023-12-05                4800                                 135   \n",
       "5   2023-12-06                5200                                 120   \n",
       "6   2023-12-07                4700                                 130   \n",
       "7   2023-12-08                5600                                 115   \n",
       "8   2023-12-09                6200                                 125   \n",
       "9   2023-12-10                4900                                 135   \n",
       "10  2023-12-11                5100                                 120   \n",
       "11  2023-12-12                4600                                 130   \n",
       "12  2023-12-13                5400                                 115   \n",
       "13  2023-12-14                6100                                 125   \n",
       "14  2023-12-15                5000                                 135   \n",
       "15  2023-12-16                4500                                 120   \n",
       "16  2023-12-17                5500                                 130   \n",
       "17  2023-12-18                6000                                 115   \n",
       "18  2023-12-19                4800                                 125   \n",
       "19  2023-12-20                5200                                 135   \n",
       "20  2023-12-21                4700                                 120   \n",
       "21  2023-12-22                5600                                 130   \n",
       "22  2023-12-23                6200                                 115   \n",
       "23  2023-12-24                4900                                 125   \n",
       "24  2023-12-25                5100                                 135   \n",
       "25  2023-12-26                4600                                 120   \n",
       "26  2023-12-27                5400                                 130   \n",
       "27  2023-12-28                6100                                 115   \n",
       "28  2023-12-29                5000                                 125   \n",
       "\n",
       "    Bounce Rate (%)  Conversion Rate (%)  \n",
       "0                25                  2.0  \n",
       "1                22                  3.0  \n",
       "2                28                  1.5  \n",
       "3                20                  2.5  \n",
       "4                23                  2.0  \n",
       "5                25                  2.2  \n",
       "6                22                  2.8  \n",
       "7                28                  1.7  \n",
       "8                20                  2.7  \n",
       "9                23                  2.1  \n",
       "10               25                  2.3  \n",
       "11               22                  2.9  \n",
       "12               28                  1.8  \n",
       "13               20                  2.6  \n",
       "14               23                  2.2  \n",
       "15               25                  2.4  \n",
       "16               22                  2.7  \n",
       "17               28                  1.6  \n",
       "18               20                  2.5  \n",
       "19               23                  2.1  \n",
       "20               25                  2.3  \n",
       "21               22                  2.9  \n",
       "22               28                  1.8  \n",
       "23               20                  2.6  \n",
       "24               23                  2.2  \n",
       "25               25                  2.4  \n",
       "26               22                  2.7  \n",
       "27               28                  1.6  \n",
       "28               20                  2.5  "
      ]
     },
     "execution_count": 50,
     "metadata": {},
     "output_type": "execute_result"
    }
   ],
   "source": [
    "df4"
   ]
  },
  {
   "cell_type": "code",
   "execution_count": 55,
   "metadata": {},
   "outputs": [],
   "source": [
    "import statistics\n",
    "def analyze_visitors(visitors):\n",
    "    \"\"\"Analyzes visitor data and prints average, minimum, and maximum values.\"\"\"\n",
    "\n",
    "#     if not visitors:\n",
    "#         print(\"No visitor data provided.\")\n",
    "#         return\n",
    "\n",
    "    average_visitors = statistics.mean(visitors)\n",
    "    min_visitors = min(visitors)\n",
    "    max_visitors = max(visitors)\n",
    "\n",
    "    print(\"Average visitors per day:\", average_visitors)\n",
    "    print(\"Minimum visitors per day:\", min_visitors)\n",
    "    print(\"Maximum visitors per day:\", max_visitors)"
   ]
  },
  {
   "cell_type": "code",
   "execution_count": 56,
   "metadata": {},
   "outputs": [
    {
     "name": "stdout",
     "output_type": "stream",
     "text": [
      "Average visitors per day: 5248.275862068966\n",
      "Minimum visitors per day: 4500\n",
      "Maximum visitors per day: 6200\n"
     ]
    }
   ],
   "source": [
    "visitor_data =df4['Number of Visitors'].astype(int)\n",
    "analyze_visitors(visitor_data)"
   ]
  },
  {
   "cell_type": "code",
   "execution_count": null,
   "metadata": {},
   "outputs": [],
   "source": [
    "# Investigate the relationship between bounce rate and conversion rate using correlation analysis\n"
   ]
  },
  {
   "cell_type": "code",
   "execution_count": 57,
   "metadata": {},
   "outputs": [
    {
     "data": {
      "text/plain": [
       "-0.8166050475362996"
      ]
     },
     "execution_count": 57,
     "metadata": {},
     "output_type": "execute_result"
    }
   ],
   "source": [
    "df4['Bounce Rate (%)'].corr(df4['Conversion Rate (%)'])"
   ]
  },
  {
   "cell_type": "code",
   "execution_count": 60,
   "metadata": {},
   "outputs": [
    {
     "name": "stdout",
     "output_type": "stream",
     "text": [
      "-0.8088159148927542\n",
      "-0.6002266781177342\n",
      "-0.8166050475362996\n"
     ]
    }
   ],
   "source": [
    "print(df4['Bounce Rate (%)'].corr(df4['Conversion Rate (%)'], method='spearman'))\n",
    "print(df4['Bounce Rate (%)'].corr(df4['Conversion Rate (%)'], method='kendall'))\n",
    "print(df4['Bounce Rate (%)'].corr(df4['Conversion Rate (%)'], method='pearson'))\n",
    " "
   ]
  },
  {
   "cell_type": "markdown",
   "metadata": {},
   "source": [
    "### 5. Dataset: A dataset with columns (purchase-info.csv) such as Customer ID, Purchase Amount, Purchase Date, and Category.\n",
    "### Problem: Develop a Python program to calculate the average purchase amount for each category. Also, find the most frequent purchase category and the customer who made the most purchases"
   ]
  },
  {
   "cell_type": "code",
   "execution_count": 61,
   "metadata": {},
   "outputs": [],
   "source": [
    "df5 = pd.read_csv('datasets/purchase-info.csv')"
   ]
  },
  {
   "cell_type": "code",
   "execution_count": 62,
   "metadata": {},
   "outputs": [
    {
     "data": {
      "text/html": [
       "<div>\n",
       "<style scoped>\n",
       "    .dataframe tbody tr th:only-of-type {\n",
       "        vertical-align: middle;\n",
       "    }\n",
       "\n",
       "    .dataframe tbody tr th {\n",
       "        vertical-align: top;\n",
       "    }\n",
       "\n",
       "    .dataframe thead th {\n",
       "        text-align: right;\n",
       "    }\n",
       "</style>\n",
       "<table border=\"1\" class=\"dataframe\">\n",
       "  <thead>\n",
       "    <tr style=\"text-align: right;\">\n",
       "      <th></th>\n",
       "      <th>Customer ID</th>\n",
       "      <th>Purchase Amount</th>\n",
       "      <th>Purchase Date</th>\n",
       "      <th>Category</th>\n",
       "    </tr>\n",
       "  </thead>\n",
       "  <tbody>\n",
       "    <tr>\n",
       "      <th>0</th>\n",
       "      <td>1001</td>\n",
       "      <td>50</td>\n",
       "      <td>2023-12-01</td>\n",
       "      <td>Electronics</td>\n",
       "    </tr>\n",
       "    <tr>\n",
       "      <th>1</th>\n",
       "      <td>1002</td>\n",
       "      <td>25</td>\n",
       "      <td>2023-12-02</td>\n",
       "      <td>Clothing</td>\n",
       "    </tr>\n",
       "    <tr>\n",
       "      <th>2</th>\n",
       "      <td>1003</td>\n",
       "      <td>75</td>\n",
       "      <td>2023-12-03</td>\n",
       "      <td>Home Goods</td>\n",
       "    </tr>\n",
       "    <tr>\n",
       "      <th>3</th>\n",
       "      <td>1004</td>\n",
       "      <td>40</td>\n",
       "      <td>2023-12-04</td>\n",
       "      <td>Electronics</td>\n",
       "    </tr>\n",
       "    <tr>\n",
       "      <th>4</th>\n",
       "      <td>1005</td>\n",
       "      <td>30</td>\n",
       "      <td>2023-12-05</td>\n",
       "      <td>Clothing</td>\n",
       "    </tr>\n",
       "    <tr>\n",
       "      <th>5</th>\n",
       "      <td>1006</td>\n",
       "      <td>60</td>\n",
       "      <td>2023-12-06</td>\n",
       "      <td>Home Goods</td>\n",
       "    </tr>\n",
       "    <tr>\n",
       "      <th>6</th>\n",
       "      <td>1007</td>\n",
       "      <td>20</td>\n",
       "      <td>2023-12-07</td>\n",
       "      <td>Electronics</td>\n",
       "    </tr>\n",
       "    <tr>\n",
       "      <th>7</th>\n",
       "      <td>1008</td>\n",
       "      <td>55</td>\n",
       "      <td>2023-12-08</td>\n",
       "      <td>Clothing</td>\n",
       "    </tr>\n",
       "    <tr>\n",
       "      <th>8</th>\n",
       "      <td>1009</td>\n",
       "      <td>80</td>\n",
       "      <td>2023-12-09</td>\n",
       "      <td>Home Goods</td>\n",
       "    </tr>\n",
       "    <tr>\n",
       "      <th>9</th>\n",
       "      <td>1010</td>\n",
       "      <td>35</td>\n",
       "      <td>2023-12-10</td>\n",
       "      <td>Electronics</td>\n",
       "    </tr>\n",
       "    <tr>\n",
       "      <th>10</th>\n",
       "      <td>1011</td>\n",
       "      <td>28</td>\n",
       "      <td>2023-12-11</td>\n",
       "      <td>Clothing</td>\n",
       "    </tr>\n",
       "    <tr>\n",
       "      <th>11</th>\n",
       "      <td>1012</td>\n",
       "      <td>65</td>\n",
       "      <td>2023-12-12</td>\n",
       "      <td>Home Goods</td>\n",
       "    </tr>\n",
       "    <tr>\n",
       "      <th>12</th>\n",
       "      <td>1013</td>\n",
       "      <td>18</td>\n",
       "      <td>2023-12-13</td>\n",
       "      <td>Electronics</td>\n",
       "    </tr>\n",
       "    <tr>\n",
       "      <th>13</th>\n",
       "      <td>1014</td>\n",
       "      <td>52</td>\n",
       "      <td>2023-12-14</td>\n",
       "      <td>Clothing</td>\n",
       "    </tr>\n",
       "    <tr>\n",
       "      <th>14</th>\n",
       "      <td>1015</td>\n",
       "      <td>78</td>\n",
       "      <td>2023-12-15</td>\n",
       "      <td>Home Goods</td>\n",
       "    </tr>\n",
       "    <tr>\n",
       "      <th>15</th>\n",
       "      <td>1016</td>\n",
       "      <td>32</td>\n",
       "      <td>2023-12-16</td>\n",
       "      <td>Electronics</td>\n",
       "    </tr>\n",
       "    <tr>\n",
       "      <th>16</th>\n",
       "      <td>1017</td>\n",
       "      <td>26</td>\n",
       "      <td>2023-12-17</td>\n",
       "      <td>Clothing</td>\n",
       "    </tr>\n",
       "    <tr>\n",
       "      <th>17</th>\n",
       "      <td>1018</td>\n",
       "      <td>63</td>\n",
       "      <td>2023-12-18</td>\n",
       "      <td>Home Goods</td>\n",
       "    </tr>\n",
       "    <tr>\n",
       "      <th>18</th>\n",
       "      <td>1019</td>\n",
       "      <td>16</td>\n",
       "      <td>2023-12-19</td>\n",
       "      <td>Electronics</td>\n",
       "    </tr>\n",
       "    <tr>\n",
       "      <th>19</th>\n",
       "      <td>1020</td>\n",
       "      <td>54</td>\n",
       "      <td>2023-12-20</td>\n",
       "      <td>Clothing</td>\n",
       "    </tr>\n",
       "    <tr>\n",
       "      <th>20</th>\n",
       "      <td>1021</td>\n",
       "      <td>76</td>\n",
       "      <td>2023-12-21</td>\n",
       "      <td>Home Goods</td>\n",
       "    </tr>\n",
       "    <tr>\n",
       "      <th>21</th>\n",
       "      <td>1022</td>\n",
       "      <td>34</td>\n",
       "      <td>2023-12-22</td>\n",
       "      <td>Electronics</td>\n",
       "    </tr>\n",
       "    <tr>\n",
       "      <th>22</th>\n",
       "      <td>1023</td>\n",
       "      <td>27</td>\n",
       "      <td>2023-12-23</td>\n",
       "      <td>Clothing</td>\n",
       "    </tr>\n",
       "    <tr>\n",
       "      <th>23</th>\n",
       "      <td>1024</td>\n",
       "      <td>62</td>\n",
       "      <td>2023-12-24</td>\n",
       "      <td>Home Goods</td>\n",
       "    </tr>\n",
       "    <tr>\n",
       "      <th>24</th>\n",
       "      <td>1025</td>\n",
       "      <td>17</td>\n",
       "      <td>2023-12-25</td>\n",
       "      <td>Electronics</td>\n",
       "    </tr>\n",
       "    <tr>\n",
       "      <th>25</th>\n",
       "      <td>1026</td>\n",
       "      <td>53</td>\n",
       "      <td>2023-12-26</td>\n",
       "      <td>Clothing</td>\n",
       "    </tr>\n",
       "    <tr>\n",
       "      <th>26</th>\n",
       "      <td>1027</td>\n",
       "      <td>75</td>\n",
       "      <td>2023-12-27</td>\n",
       "      <td>Home Goods</td>\n",
       "    </tr>\n",
       "    <tr>\n",
       "      <th>27</th>\n",
       "      <td>1028</td>\n",
       "      <td>35</td>\n",
       "      <td>2023-12-28</td>\n",
       "      <td>Electronics</td>\n",
       "    </tr>\n",
       "    <tr>\n",
       "      <th>28</th>\n",
       "      <td>1029</td>\n",
       "      <td>28</td>\n",
       "      <td>2023-12-29</td>\n",
       "      <td>Clothing</td>\n",
       "    </tr>\n",
       "    <tr>\n",
       "      <th>29</th>\n",
       "      <td>1030</td>\n",
       "      <td>65</td>\n",
       "      <td>2023-12-30</td>\n",
       "      <td>Home Goods</td>\n",
       "    </tr>\n",
       "  </tbody>\n",
       "</table>\n",
       "</div>"
      ],
      "text/plain": [
       "    Customer ID  Purchase Amount Purchase Date     Category\n",
       "0          1001               50    2023-12-01  Electronics\n",
       "1          1002               25    2023-12-02     Clothing\n",
       "2          1003               75    2023-12-03   Home Goods\n",
       "3          1004               40    2023-12-04  Electronics\n",
       "4          1005               30    2023-12-05     Clothing\n",
       "5          1006               60    2023-12-06   Home Goods\n",
       "6          1007               20    2023-12-07  Electronics\n",
       "7          1008               55    2023-12-08     Clothing\n",
       "8          1009               80    2023-12-09   Home Goods\n",
       "9          1010               35    2023-12-10  Electronics\n",
       "10         1011               28    2023-12-11     Clothing\n",
       "11         1012               65    2023-12-12   Home Goods\n",
       "12         1013               18    2023-12-13  Electronics\n",
       "13         1014               52    2023-12-14     Clothing\n",
       "14         1015               78    2023-12-15   Home Goods\n",
       "15         1016               32    2023-12-16  Electronics\n",
       "16         1017               26    2023-12-17     Clothing\n",
       "17         1018               63    2023-12-18   Home Goods\n",
       "18         1019               16    2023-12-19  Electronics\n",
       "19         1020               54    2023-12-20     Clothing\n",
       "20         1021               76    2023-12-21   Home Goods\n",
       "21         1022               34    2023-12-22  Electronics\n",
       "22         1023               27    2023-12-23     Clothing\n",
       "23         1024               62    2023-12-24   Home Goods\n",
       "24         1025               17    2023-12-25  Electronics\n",
       "25         1026               53    2023-12-26     Clothing\n",
       "26         1027               75    2023-12-27   Home Goods\n",
       "27         1028               35    2023-12-28  Electronics\n",
       "28         1029               28    2023-12-29     Clothing\n",
       "29         1030               65    2023-12-30   Home Goods"
      ]
     },
     "execution_count": 62,
     "metadata": {},
     "output_type": "execute_result"
    }
   ],
   "source": [
    "df5"
   ]
  },
  {
   "cell_type": "code",
   "execution_count": 63,
   "metadata": {},
   "outputs": [],
   "source": [
    "avg_price = df5.groupby('Category')['Purchase Amount'].agg(np.mean)"
   ]
  },
  {
   "cell_type": "code",
   "execution_count": 64,
   "metadata": {},
   "outputs": [
    {
     "data": {
      "text/plain": [
       "Category\n",
       "Clothing       37.8\n",
       "Electronics    29.7\n",
       "Home Goods     69.9\n",
       "Name: Purchase Amount, dtype: float64"
      ]
     },
     "execution_count": 64,
     "metadata": {},
     "output_type": "execute_result"
    }
   ],
   "source": [
    "avg_price"
   ]
  },
  {
   "cell_type": "code",
   "execution_count": 78,
   "metadata": {},
   "outputs": [],
   "source": [
    "most_freq_pur_cat = df5.groupby('Category')['Purchase Amount'].agg(np.max)"
   ]
  },
  {
   "cell_type": "code",
   "execution_count": 82,
   "metadata": {},
   "outputs": [
    {
     "data": {
      "text/plain": [
       "Category\n",
       "Home Goods    80\n",
       "Name: Purchase Amount, dtype: int64"
      ]
     },
     "execution_count": 82,
     "metadata": {},
     "output_type": "execute_result"
    }
   ],
   "source": [
    "most_freq_pur_cat[[most_freq_pur_cat.idxmax()]]"
   ]
  },
  {
   "cell_type": "code",
   "execution_count": 81,
   "metadata": {},
   "outputs": [
    {
     "name": "stdout",
     "output_type": "stream",
     "text": [
      "most frequent purchase category : Category\n",
      "Home Goods    80\n",
      "Name: Purchase Amount, dtype: int64\n"
     ]
    }
   ],
   "source": [
    "print('most frequent purchase category :', most_freq_pur_cat[[most_freq_pur_cat.idxmax()]])"
   ]
  },
  {
   "cell_type": "code",
   "execution_count": 88,
   "metadata": {},
   "outputs": [
    {
     "data": {
      "text/plain": [
       "0     1001\n",
       "1     1002\n",
       "2     1003\n",
       "3     1004\n",
       "4     1005\n",
       "5     1006\n",
       "6     1007\n",
       "7     1008\n",
       "8     1009\n",
       "9     1010\n",
       "10    1011\n",
       "11    1012\n",
       "12    1013\n",
       "13    1014\n",
       "14    1015\n",
       "15    1016\n",
       "16    1017\n",
       "17    1018\n",
       "18    1019\n",
       "19    1020\n",
       "20    1021\n",
       "21    1022\n",
       "22    1023\n",
       "23    1024\n",
       "24    1025\n",
       "25    1026\n",
       "26    1027\n",
       "27    1028\n",
       "28    1029\n",
       "29    1030\n",
       "Name: Customer ID, dtype: int64"
      ]
     },
     "execution_count": 88,
     "metadata": {},
     "output_type": "execute_result"
    }
   ],
   "source": [
    "df5['Customer ID']"
   ]
  },
  {
   "cell_type": "code",
   "execution_count": 93,
   "metadata": {},
   "outputs": [],
   "source": [
    "most_freq_pur_cust = df5.groupby('Category')['Purchase Amount'].agg(np.max)\n"
   ]
  },
  {
   "cell_type": "code",
   "execution_count": null,
   "metadata": {},
   "outputs": [],
   "source": []
  },
  {
   "cell_type": "code",
   "execution_count": 94,
   "metadata": {},
   "outputs": [
    {
     "data": {
      "text/html": [
       "<div>\n",
       "<style scoped>\n",
       "    .dataframe tbody tr th:only-of-type {\n",
       "        vertical-align: middle;\n",
       "    }\n",
       "\n",
       "    .dataframe tbody tr th {\n",
       "        vertical-align: top;\n",
       "    }\n",
       "\n",
       "    .dataframe thead th {\n",
       "        text-align: right;\n",
       "    }\n",
       "</style>\n",
       "<table border=\"1\" class=\"dataframe\">\n",
       "  <thead>\n",
       "    <tr style=\"text-align: right;\">\n",
       "      <th></th>\n",
       "      <th>Purchase Amount</th>\n",
       "    </tr>\n",
       "    <tr>\n",
       "      <th>Category</th>\n",
       "      <th></th>\n",
       "    </tr>\n",
       "  </thead>\n",
       "  <tbody>\n",
       "    <tr>\n",
       "      <th>Clothing</th>\n",
       "      <td>55</td>\n",
       "    </tr>\n",
       "    <tr>\n",
       "      <th>Electronics</th>\n",
       "      <td>50</td>\n",
       "    </tr>\n",
       "    <tr>\n",
       "      <th>Home Goods</th>\n",
       "      <td>80</td>\n",
       "    </tr>\n",
       "  </tbody>\n",
       "</table>\n",
       "</div>"
      ],
      "text/plain": [
       "             Purchase Amount\n",
       "Category                    \n",
       "Clothing                  55\n",
       "Electronics               50\n",
       "Home Goods                80"
      ]
     },
     "execution_count": 94,
     "metadata": {},
     "output_type": "execute_result"
    }
   ],
   "source": [
    "most_freq_pur_cust"
   ]
  },
  {
   "cell_type": "code",
   "execution_count": null,
   "metadata": {},
   "outputs": [],
   "source": []
  },
  {
   "cell_type": "code",
   "execution_count": 113,
   "metadata": {},
   "outputs": [
    {
     "name": "stdout",
     "output_type": "stream",
     "text": [
      "most frequent category:  Home Goods\n"
     ]
    }
   ],
   "source": [
    "category=most_freq_pur_cust.groupby('Category')['Purchase Amount'].max()\n",
    "print('most frequent category: ',category.idxmax())\n",
    "fre_cat=category.idxmax()"
   ]
  },
  {
   "cell_type": "code",
   "execution_count": 114,
   "metadata": {},
   "outputs": [],
   "source": [
    "newdf=df5.loc[df5['Category'] == fre_cat]"
   ]
  },
  {
   "cell_type": "code",
   "execution_count": null,
   "metadata": {},
   "outputs": [],
   "source": []
  },
  {
   "cell_type": "code",
   "execution_count": 115,
   "metadata": {},
   "outputs": [
    {
     "data": {
      "text/html": [
       "<div>\n",
       "<style scoped>\n",
       "    .dataframe tbody tr th:only-of-type {\n",
       "        vertical-align: middle;\n",
       "    }\n",
       "\n",
       "    .dataframe tbody tr th {\n",
       "        vertical-align: top;\n",
       "    }\n",
       "\n",
       "    .dataframe thead th {\n",
       "        text-align: right;\n",
       "    }\n",
       "</style>\n",
       "<table border=\"1\" class=\"dataframe\">\n",
       "  <thead>\n",
       "    <tr style=\"text-align: right;\">\n",
       "      <th></th>\n",
       "      <th>Customer ID</th>\n",
       "      <th>Purchase Amount</th>\n",
       "      <th>Purchase Date</th>\n",
       "      <th>Category</th>\n",
       "    </tr>\n",
       "  </thead>\n",
       "  <tbody>\n",
       "    <tr>\n",
       "      <th>2</th>\n",
       "      <td>1003</td>\n",
       "      <td>75</td>\n",
       "      <td>2023-12-03</td>\n",
       "      <td>Home Goods</td>\n",
       "    </tr>\n",
       "    <tr>\n",
       "      <th>5</th>\n",
       "      <td>1006</td>\n",
       "      <td>60</td>\n",
       "      <td>2023-12-06</td>\n",
       "      <td>Home Goods</td>\n",
       "    </tr>\n",
       "    <tr>\n",
       "      <th>8</th>\n",
       "      <td>1009</td>\n",
       "      <td>80</td>\n",
       "      <td>2023-12-09</td>\n",
       "      <td>Home Goods</td>\n",
       "    </tr>\n",
       "    <tr>\n",
       "      <th>11</th>\n",
       "      <td>1012</td>\n",
       "      <td>65</td>\n",
       "      <td>2023-12-12</td>\n",
       "      <td>Home Goods</td>\n",
       "    </tr>\n",
       "    <tr>\n",
       "      <th>14</th>\n",
       "      <td>1015</td>\n",
       "      <td>78</td>\n",
       "      <td>2023-12-15</td>\n",
       "      <td>Home Goods</td>\n",
       "    </tr>\n",
       "    <tr>\n",
       "      <th>17</th>\n",
       "      <td>1018</td>\n",
       "      <td>63</td>\n",
       "      <td>2023-12-18</td>\n",
       "      <td>Home Goods</td>\n",
       "    </tr>\n",
       "    <tr>\n",
       "      <th>20</th>\n",
       "      <td>1021</td>\n",
       "      <td>76</td>\n",
       "      <td>2023-12-21</td>\n",
       "      <td>Home Goods</td>\n",
       "    </tr>\n",
       "    <tr>\n",
       "      <th>23</th>\n",
       "      <td>1024</td>\n",
       "      <td>62</td>\n",
       "      <td>2023-12-24</td>\n",
       "      <td>Home Goods</td>\n",
       "    </tr>\n",
       "    <tr>\n",
       "      <th>26</th>\n",
       "      <td>1027</td>\n",
       "      <td>75</td>\n",
       "      <td>2023-12-27</td>\n",
       "      <td>Home Goods</td>\n",
       "    </tr>\n",
       "    <tr>\n",
       "      <th>29</th>\n",
       "      <td>1030</td>\n",
       "      <td>65</td>\n",
       "      <td>2023-12-30</td>\n",
       "      <td>Home Goods</td>\n",
       "    </tr>\n",
       "  </tbody>\n",
       "</table>\n",
       "</div>"
      ],
      "text/plain": [
       "    Customer ID  Purchase Amount Purchase Date    Category\n",
       "2          1003               75    2023-12-03  Home Goods\n",
       "5          1006               60    2023-12-06  Home Goods\n",
       "8          1009               80    2023-12-09  Home Goods\n",
       "11         1012               65    2023-12-12  Home Goods\n",
       "14         1015               78    2023-12-15  Home Goods\n",
       "17         1018               63    2023-12-18  Home Goods\n",
       "20         1021               76    2023-12-21  Home Goods\n",
       "23         1024               62    2023-12-24  Home Goods\n",
       "26         1027               75    2023-12-27  Home Goods\n",
       "29         1030               65    2023-12-30  Home Goods"
      ]
     },
     "execution_count": 115,
     "metadata": {},
     "output_type": "execute_result"
    }
   ],
   "source": [
    "newdf"
   ]
  },
  {
   "cell_type": "code",
   "execution_count": 118,
   "metadata": {},
   "outputs": [
    {
     "name": "stdout",
     "output_type": "stream",
     "text": [
      "most frequent customer ID is:  1009\n"
     ]
    }
   ],
   "source": [
    "custids=newdf.groupby('Customer ID')['Purchase Amount'].max()\n",
    "print('most frequent customer ID is: ',custids.idxmax())\n"
   ]
  },
  {
   "cell_type": "code",
   "execution_count": null,
   "metadata": {},
   "outputs": [],
   "source": []
  },
  {
   "cell_type": "code",
   "execution_count": null,
   "metadata": {},
   "outputs": [],
   "source": []
  },
  {
   "cell_type": "code",
   "execution_count": null,
   "metadata": {},
   "outputs": [],
   "source": []
  },
  {
   "cell_type": "code",
   "execution_count": null,
   "metadata": {},
   "outputs": [],
   "source": []
  },
  {
   "cell_type": "code",
   "execution_count": null,
   "metadata": {},
   "outputs": [],
   "source": []
  },
  {
   "cell_type": "code",
   "execution_count": null,
   "metadata": {},
   "outputs": [],
   "source": []
  },
  {
   "cell_type": "code",
   "execution_count": null,
   "metadata": {},
   "outputs": [],
   "source": []
  },
  {
   "cell_type": "code",
   "execution_count": null,
   "metadata": {},
   "outputs": [],
   "source": []
  },
  {
   "cell_type": "code",
   "execution_count": null,
   "metadata": {},
   "outputs": [],
   "source": []
  },
  {
   "cell_type": "code",
   "execution_count": null,
   "metadata": {},
   "outputs": [],
   "source": []
  },
  {
   "cell_type": "code",
   "execution_count": null,
   "metadata": {},
   "outputs": [],
   "source": []
  },
  {
   "cell_type": "code",
   "execution_count": null,
   "metadata": {},
   "outputs": [],
   "source": []
  },
  {
   "cell_type": "code",
   "execution_count": null,
   "metadata": {},
   "outputs": [],
   "source": []
  },
  {
   "cell_type": "code",
   "execution_count": null,
   "metadata": {},
   "outputs": [],
   "source": []
  },
  {
   "cell_type": "code",
   "execution_count": null,
   "metadata": {},
   "outputs": [],
   "source": []
  },
  {
   "cell_type": "code",
   "execution_count": null,
   "metadata": {},
   "outputs": [],
   "source": []
  },
  {
   "cell_type": "code",
   "execution_count": null,
   "metadata": {},
   "outputs": [],
   "source": []
  },
  {
   "cell_type": "code",
   "execution_count": null,
   "metadata": {},
   "outputs": [],
   "source": []
  },
  {
   "cell_type": "code",
   "execution_count": null,
   "metadata": {},
   "outputs": [],
   "source": []
  },
  {
   "cell_type": "code",
   "execution_count": null,
   "metadata": {},
   "outputs": [],
   "source": []
  },
  {
   "cell_type": "code",
   "execution_count": null,
   "metadata": {},
   "outputs": [],
   "source": []
  },
  {
   "cell_type": "code",
   "execution_count": null,
   "metadata": {},
   "outputs": [],
   "source": []
  },
  {
   "cell_type": "code",
   "execution_count": null,
   "metadata": {},
   "outputs": [],
   "source": []
  },
  {
   "cell_type": "code",
   "execution_count": null,
   "metadata": {},
   "outputs": [],
   "source": []
  },
  {
   "cell_type": "code",
   "execution_count": null,
   "metadata": {},
   "outputs": [],
   "source": []
  },
  {
   "cell_type": "code",
   "execution_count": null,
   "metadata": {},
   "outputs": [],
   "source": []
  },
  {
   "cell_type": "code",
   "execution_count": null,
   "metadata": {},
   "outputs": [],
   "source": []
  },
  {
   "cell_type": "code",
   "execution_count": null,
   "metadata": {},
   "outputs": [],
   "source": []
  },
  {
   "cell_type": "code",
   "execution_count": 68,
   "metadata": {},
   "outputs": [
    {
     "data": {
      "text/plain": [
       "699"
      ]
     },
     "execution_count": 68,
     "metadata": {},
     "output_type": "execute_result"
    }
   ],
   "source": [
    "most_freq_pur_cat"
   ]
  },
  {
   "cell_type": "code",
   "execution_count": null,
   "metadata": {},
   "outputs": [],
   "source": []
  },
  {
   "cell_type": "code",
   "execution_count": null,
   "metadata": {},
   "outputs": [],
   "source": []
  },
  {
   "cell_type": "code",
   "execution_count": null,
   "metadata": {},
   "outputs": [],
   "source": []
  },
  {
   "cell_type": "code",
   "execution_count": null,
   "metadata": {},
   "outputs": [],
   "source": []
  },
  {
   "cell_type": "code",
   "execution_count": null,
   "metadata": {},
   "outputs": [],
   "source": []
  },
  {
   "cell_type": "code",
   "execution_count": null,
   "metadata": {},
   "outputs": [],
   "source": []
  },
  {
   "cell_type": "code",
   "execution_count": null,
   "metadata": {},
   "outputs": [],
   "source": []
  },
  {
   "cell_type": "code",
   "execution_count": null,
   "metadata": {},
   "outputs": [],
   "source": []
  },
  {
   "cell_type": "code",
   "execution_count": null,
   "metadata": {},
   "outputs": [],
   "source": []
  },
  {
   "cell_type": "code",
   "execution_count": null,
   "metadata": {},
   "outputs": [],
   "source": []
  },
  {
   "cell_type": "code",
   "execution_count": null,
   "metadata": {},
   "outputs": [],
   "source": []
  },
  {
   "cell_type": "code",
   "execution_count": null,
   "metadata": {},
   "outputs": [],
   "source": []
  },
  {
   "cell_type": "code",
   "execution_count": null,
   "metadata": {},
   "outputs": [],
   "source": []
  },
  {
   "cell_type": "code",
   "execution_count": null,
   "metadata": {},
   "outputs": [],
   "source": []
  },
  {
   "cell_type": "code",
   "execution_count": null,
   "metadata": {},
   "outputs": [],
   "source": []
  },
  {
   "cell_type": "code",
   "execution_count": null,
   "metadata": {},
   "outputs": [],
   "source": []
  },
  {
   "cell_type": "code",
   "execution_count": null,
   "metadata": {},
   "outputs": [],
   "source": []
  },
  {
   "cell_type": "code",
   "execution_count": null,
   "metadata": {},
   "outputs": [],
   "source": []
  },
  {
   "cell_type": "code",
   "execution_count": null,
   "metadata": {},
   "outputs": [],
   "source": []
  },
  {
   "cell_type": "code",
   "execution_count": null,
   "metadata": {},
   "outputs": [],
   "source": []
  },
  {
   "cell_type": "code",
   "execution_count": null,
   "metadata": {},
   "outputs": [],
   "source": []
  },
  {
   "cell_type": "code",
   "execution_count": null,
   "metadata": {},
   "outputs": [],
   "source": []
  },
  {
   "cell_type": "code",
   "execution_count": null,
   "metadata": {},
   "outputs": [],
   "source": []
  },
  {
   "cell_type": "code",
   "execution_count": null,
   "metadata": {},
   "outputs": [],
   "source": []
  }
 ],
 "metadata": {
  "kernelspec": {
   "display_name": "Python 3 (ipykernel)",
   "language": "python",
   "name": "python3"
  },
  "language_info": {
   "codemirror_mode": {
    "name": "ipython",
    "version": 3
   },
   "file_extension": ".py",
   "mimetype": "text/x-python",
   "name": "python",
   "nbconvert_exporter": "python",
   "pygments_lexer": "ipython3",
   "version": "3.10.9"
  }
 },
 "nbformat": 4,
 "nbformat_minor": 4
}
