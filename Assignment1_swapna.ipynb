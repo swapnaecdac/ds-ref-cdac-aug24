{
 "cells": [
  {
   "cell_type": "markdown",
   "id": "d05c68ee",
   "metadata": {},
   "source": [
    "## Question-1 Write a program to read Celsius temperature and print equivalent Fahrenheit temperate on screen."
   ]
  },
  {
   "cell_type": "code",
   "execution_count": null,
   "id": "b5257aab",
   "metadata": {},
   "outputs": [],
   "source": []
  },
  {
   "cell_type": "code",
   "execution_count": 1,
   "id": "999276aa",
   "metadata": {},
   "outputs": [
    {
     "name": "stdout",
     "output_type": "stream",
     "text": [
      "Enter temperature in Celsius: -40\n",
      "Temperature in Fahrenheit: -40.0\n"
     ]
    }
   ],
   "source": [
    "celsius = float(input(\"Enter temperature in Celsius: \"))\n",
    "\n",
    "fahrenheit = (celsius * 9/5) + 32\n",
    "\n",
    "print(\"Temperature in Fahrenheit:\", fahrenheit)"
   ]
  },
  {
   "cell_type": "markdown",
   "id": "c69b987b",
   "metadata": {},
   "source": [
    "## 2. Read radius of the circle from user and find the area and perimeter of it."
   ]
  },
  {
   "cell_type": "code",
   "execution_count": 2,
   "id": "9943f4ad",
   "metadata": {},
   "outputs": [
    {
     "name": "stdout",
     "output_type": "stream",
     "text": [
      "Enter the radius of the circle: 4\n",
      "Area of the circle: 50.26548245743669\n",
      "Perimeter of the circle: 25.132741228718345\n"
     ]
    }
   ],
   "source": [
    "import math\n",
    "\n",
    "radius = float(input(\"Enter the radius of the circle: \"))\n",
    "\n",
    "area = math.pi * radius ** 2\n",
    "perimeter = 2 * math.pi * radius\n",
    "\n",
    "print(\"Area of the circle:\", area)\n",
    "print(\"Perimeter of the circle:\", perimeter)\n",
    "\n"
   ]
  },
  {
   "cell_type": "markdown",
   "id": "f3a5e01c",
   "metadata": {},
   "source": [
    "## 3. Read the amount and percentage of interest from the keyboard and find final amount after adding interest in original amount."
   ]
  },
  {
   "cell_type": "code",
   "execution_count": null,
   "id": "c3ace8bc",
   "metadata": {},
   "outputs": [],
   "source": []
  },
  {
   "cell_type": "code",
   "execution_count": 4,
   "id": "36cb4f2f",
   "metadata": {},
   "outputs": [
    {
     "name": "stdout",
     "output_type": "stream",
     "text": [
      "Enter the amount: 10000\n",
      "Enter the rate of interest: 5\n",
      "The Simple Interest is 6000.0\n"
     ]
    }
   ],
   "source": [
    "amount = float(input(\"Enter the amount: \"))\n",
    "interest = float(input(\"Enter the rate of interest: \"))\n",
    "time=12\n",
    "\n",
    "si = (amount * time * interest)/100\n",
    "\n",
    "print('The Simple Interest is', si)"
   ]
  },
  {
   "cell_type": "markdown",
   "id": "9b9f3180",
   "metadata": {},
   "source": [
    "## 4. Write a program to read distance value in meters and convert it into centimeters,inches, and yards."
   ]
  },
  {
   "cell_type": "code",
   "execution_count": 6,
   "id": "b1f16e75",
   "metadata": {},
   "outputs": [
    {
     "name": "stdout",
     "output_type": "stream",
     "text": [
      "Enter the distance in meters 100\n",
      "The Distance in  centimeters is 10000.0\n",
      "The Distance in  inches is 3937.007874015748\n",
      "The Distance in  yards is 109.4\n"
     ]
    }
   ],
   "source": [
    "dis_meter = float(input(\"Enter the distance in meters \"))\n",
    "meter_to_centi=dis_meter*100\n",
    "centi_to_inches=meter_to_centi/2.54\n",
    "meter_to_yard = dis_meter * 1.094\n",
    "print('The Distance in  centimeters is', meter_to_centi)\n",
    "print('The Distance in  inches is', centi_to_inches)\n",
    "print('The Distance in  yards is', meter_to_yard)"
   ]
  },
  {
   "cell_type": "markdown",
   "id": "9526e282",
   "metadata": {},
   "source": [
    "# 5. Write a Python program to calculate profit or loss. Input is selling cost and # actual cost of a product."
   ]
  },
  {
   "cell_type": "code",
   "execution_count": 7,
   "id": "fef7b58e",
   "metadata": {},
   "outputs": [
    {
     "name": "stdout",
     "output_type": "stream",
     "text": [
      "Enter cost price: 500\n",
      "Enter selling price: 600\n",
      "Profit: 100.0\n"
     ]
    }
   ],
   "source": [
    "def calculate_profit_loss(cost_price, selling_price):\n",
    "    if selling_price > cost_price:\n",
    "        profit = selling_price - cost_price\n",
    "        return f\"Profit: {profit}\"\n",
    "    elif selling_price < cost_price:\n",
    "        loss = cost_price - selling_price\n",
    "        return f\"Loss: {loss}\"\n",
    "    else:\n",
    "        return \"No profit, no loss\"\n",
    "\n",
    "# Get input from user\n",
    "cost_price = float(input(\"Enter cost price: \"))\n",
    "selling_price = float(input(\"Enter selling price: \"))\n",
    "\n",
    "# Calculate and print result\n",
    "result = calculate_profit_loss(cost_price, selling_price)\n",
    "print(result)"
   ]
  },
  {
   "cell_type": "markdown",
   "id": "9d9abff1",
   "metadata": {},
   "source": [
    "## 6. Write a program to input basic salary and find output of gross salary using following:"
   ]
  },
  {
   "cell_type": "code",
   "execution_count": null,
   "id": "2e1f8a39",
   "metadata": {},
   "outputs": [],
   "source": [
    "# DA = 75% of basic\n",
    "# HRA = 20% of basic\n",
    "# Conditions:\n",
    "# Basic < 10000 : gross = da + basic\n",
    "# Basic >= 10000 and < 20000 : gross = da + basic + 50% of hra\n",
    "# Basic >= 20000 : gross = basic + da + hra\n",
    "# Sample: Input and Output\n",
    "# 5000 : 3750 + 5000 = 8750\n",
    "# 12000 : 9000 + 12000 + 1200 = 22200\n",
    "# 24000 : 18000 + 24000 + 4800 = 46800"
   ]
  },
  {
   "cell_type": "code",
   "execution_count": 19,
   "id": "1552f4d7",
   "metadata": {},
   "outputs": [
    {
     "name": "stdout",
     "output_type": "stream",
     "text": [
      "Enter basic salary: 24000\n",
      "24000 : 18000 + 24000 + 4800 = 46800\n",
      "Gross salary: 46800.0\n"
     ]
    }
   ],
   "source": [
    "def calculate_gross_salary(basic_salary):\n",
    "    hra = 0.2 * basic_salary  # Assuming HRA is 75% of basic salary\n",
    "    da = 0.75 * basic_salary  # Assuming DA is 20% of basic salary\n",
    "    if basic_salary < 10000:\n",
    "        gross_salary=da + basic_salary\n",
    "        print(str(int(basic_salary)) +' : '+ str(int(da)) +\" + \"+ str(int(basic_salary)) +\" = \"+str(int(gross_salary)))\n",
    "    elif basic_salary >= 10000 and basic_salary < 20000:\n",
    "        gross_salary=da + basic_salary+(0.5 * hra)\n",
    "        print(str(int(basic_salary)) +' : '+ str(int(da)) +\" + \"+ str(int(basic_salary)) +\" + \"+ str(int(0.5 * hra)) +\" = \"+str(int(gross_salary)))\n",
    "    elif basic_salary >= 20000:\n",
    "        gross_salary=da + basic_salary+hra\n",
    "        print(str(int(basic_salary)) +' : '+ str(int(da)) +\" + \"+ str(int(basic_salary)) +\" + \"+ str(int(hra)) +\" = \"+str(int(gross_salary)))\n",
    "    else:\n",
    "        gross_salary=da + basic_salary+hra\n",
    "    return gross_salary\n",
    "\n",
    "basic_salary = float(input(\"Enter basic salary: \"))\n",
    "gross_salary = calculate_gross_salary(basic_salary)\n",
    "\n",
    "print(\"Gross salary:\", gross_salary)"
   ]
  },
  {
   "cell_type": "markdown",
   "id": "a2232e17",
   "metadata": {},
   "source": [
    "## 7. Write a program to read a number from user and find the factorial of the number."
   ]
  },
  {
   "cell_type": "code",
   "execution_count": 20,
   "id": "42ddd6d4",
   "metadata": {},
   "outputs": [
    {
     "name": "stdout",
     "output_type": "stream",
     "text": [
      "Enter a number: 5\n",
      "Factorial of 5 is 120\n"
     ]
    }
   ],
   "source": [
    "def factorial(n):\n",
    "    if n < 0:\n",
    "        return \"Factorial is not defined for negative numbers\"\n",
    "    elif n == 0:\n",
    "        return 1\n",
    "    else:\n",
    "        fact = 1\n",
    "        for i in range(1, n+1):\n",
    "            fact *= i\n",
    "        return fact\n",
    "\n",
    "num = int(input(\"Enter a number: \"))\n",
    "result = factorial(num)\n",
    "print(\"Factorial of\", num, \"is\", result)"
   ]
  },
  {
   "cell_type": "markdown",
   "id": "cb1fa5b3",
   "metadata": {},
   "source": [
    "## 8. Write a program to read num1 and num2 from keyboard and find addition of all number between that range."
   ]
  },
  {
   "cell_type": "code",
   "execution_count": 22,
   "id": "72760804",
   "metadata": {},
   "outputs": [
    {
     "name": "stdout",
     "output_type": "stream",
     "text": [
      "Enter a number1: 3\n",
      "Enter a number2: 6\n",
      "18\n"
     ]
    }
   ],
   "source": [
    "num1=int(input(\"Enter a number1: \"))\n",
    "num2=int(input(\"Enter a number2: \"))\n",
    "sum = 0\n",
    "for i in range(num1,num2+1):\n",
    "    sum+=i\n",
    "print(sum)"
   ]
  },
  {
   "cell_type": "markdown",
   "id": "7656af1e",
   "metadata": {},
   "source": [
    "### 9. See the tuple given: num = (56,2,35,41,43,48,32,56,71,55,68) Write a program to create two lists from it where first list contains only evennumbers and second will contain only odd numbers."
   ]
  },
  {
   "cell_type": "code",
   "execution_count": 24,
   "id": "122d61a9",
   "metadata": {},
   "outputs": [
    {
     "data": {
      "text/plain": [
       "[35, 41, 43, 71, 55]"
      ]
     },
     "execution_count": 24,
     "metadata": {},
     "output_type": "execute_result"
    }
   ],
   "source": [
    "num = (56,2,35,41,43,48,32,56,71,55,68)\n",
    "even=[]\n",
    "odd=[]\n",
    "for i in num:\n",
    "    if(i %2 == 0):\n",
    "        even.append(i)\n",
    "    else:\n",
    "        odd.append(i)\n",
    "odd"
   ]
  },
  {
   "cell_type": "code",
   "execution_count": 25,
   "id": "fcfdb53e",
   "metadata": {},
   "outputs": [
    {
     "data": {
      "text/plain": [
       "[56, 2, 48, 32, 56, 68]"
      ]
     },
     "execution_count": 25,
     "metadata": {},
     "output_type": "execute_result"
    }
   ],
   "source": [
    "even"
   ]
  },
  {
   "cell_type": "markdown",
   "id": "f2a9587b",
   "metadata": {},
   "source": [
    "### 10.Write a program to read a number from user. Create and use a user defined function to check whether it is odd or even?"
   ]
  },
  {
   "cell_type": "code",
   "execution_count": 30,
   "id": "9af55861",
   "metadata": {},
   "outputs": [
    {
     "name": "stdout",
     "output_type": "stream",
     "text": [
      "Enter a number:5\n",
      "odd\n"
     ]
    }
   ],
   "source": [
    "def checkOddEven(number):\n",
    "    if(number %2 ==0):\n",
    "        return \"even\"\n",
    "    else:\n",
    "        return \"odd\"\n",
    "\n",
    "number=int(input(\"Enter a number:\"))\n",
    "result=checkOddEven(number)\n",
    "print(result)\n"
   ]
  },
  {
   "cell_type": "markdown",
   "id": "b888f38a",
   "metadata": {},
   "source": [
    "## 11.Write a program to read a number from user and find the square root, sin, tan, log and factorial of this number using math module."
   ]
  },
  {
   "cell_type": "code",
   "execution_count": 37,
   "id": "9c99466b",
   "metadata": {},
   "outputs": [
    {
     "name": "stdout",
     "output_type": "stream",
     "text": [
      "Enter a number:20\n",
      "square root of number is 4.47213595499958\n",
      "Sin of number is 0.9129452507276277\n",
      "Tan of number is 2.237160944224742\n",
      "Log of number is 2.995732273553991\n",
      "Factorial of number is 2432902008176640000\n"
     ]
    }
   ],
   "source": [
    "import math as m\n",
    "number=int(input(\"Enter a number:\"))\n",
    "print('square root of number is', m.sqrt(number))\n",
    "print('Sin of number is', m.sin(number))\n",
    "print('Tan of number is', m.tan(number))\n",
    "print('Log of number is', m.log(number))\n",
    "print('Factorial of number is', m.factorial(number))\n",
    "\n",
    "\n",
    "\n"
   ]
  },
  {
   "cell_type": "code",
   "execution_count": null,
   "id": "378c59dc",
   "metadata": {},
   "outputs": [],
   "source": []
  },
  {
   "cell_type": "markdown",
   "id": "80dd6afa",
   "metadata": {},
   "source": [
    "### 12.Write a Python class named ‘Rectangle’ with two attributes length and width and a method named ‘calculate’ which will compute the area of a rectangle. Create an object to pass length and width and call the method to calculate the area of rectangle."
   ]
  },
  {
   "cell_type": "code",
   "execution_count": 38,
   "id": "76d083ca",
   "metadata": {},
   "outputs": [
    {
     "name": "stdout",
     "output_type": "stream",
     "text": [
      "The area of the rectangle is: 15\n"
     ]
    }
   ],
   "source": [
    "class Rectangle:\n",
    "    def __init__(self, length, width):\n",
    "        self.length = length\n",
    "        self.width = width\n",
    "\n",
    "    def calculate(self):\n",
    "        return self.length * self.width\n",
    "\n",
    "# Create a Rectangle object\n",
    "rect = Rectangle(5, 3)\n",
    "\n",
    "# Call the calculate method to find the area\n",
    "area = rect.calculate()\n",
    "\n",
    "print(\"The area of the rectangle is:\", area)"
   ]
  },
  {
   "cell_type": "code",
   "execution_count": null,
   "id": "0a499b8c",
   "metadata": {},
   "outputs": [],
   "source": []
  },
  {
   "cell_type": "code",
   "execution_count": null,
   "id": "5292bbec",
   "metadata": {},
   "outputs": [],
   "source": []
  },
  {
   "cell_type": "code",
   "execution_count": null,
   "id": "6aecd763",
   "metadata": {},
   "outputs": [],
   "source": []
  },
  {
   "cell_type": "code",
   "execution_count": null,
   "id": "e6c4b9c5",
   "metadata": {},
   "outputs": [],
   "source": []
  },
  {
   "cell_type": "code",
   "execution_count": null,
   "id": "3cacf7f3",
   "metadata": {},
   "outputs": [],
   "source": []
  },
  {
   "cell_type": "code",
   "execution_count": null,
   "id": "384576ee",
   "metadata": {},
   "outputs": [],
   "source": []
  },
  {
   "cell_type": "code",
   "execution_count": null,
   "id": "4d59e734",
   "metadata": {},
   "outputs": [],
   "source": []
  },
  {
   "cell_type": "code",
   "execution_count": null,
   "id": "1f5227db",
   "metadata": {},
   "outputs": [],
   "source": []
  },
  {
   "cell_type": "code",
   "execution_count": null,
   "id": "5f5904a8",
   "metadata": {},
   "outputs": [],
   "source": []
  },
  {
   "cell_type": "code",
   "execution_count": null,
   "id": "261ae680",
   "metadata": {},
   "outputs": [],
   "source": []
  },
  {
   "cell_type": "code",
   "execution_count": null,
   "id": "4017fe8a",
   "metadata": {},
   "outputs": [],
   "source": []
  },
  {
   "cell_type": "code",
   "execution_count": null,
   "id": "ef53bd8d",
   "metadata": {},
   "outputs": [],
   "source": []
  },
  {
   "cell_type": "code",
   "execution_count": null,
   "id": "54494733",
   "metadata": {},
   "outputs": [],
   "source": []
  },
  {
   "cell_type": "code",
   "execution_count": null,
   "id": "8ceccb09",
   "metadata": {},
   "outputs": [],
   "source": []
  },
  {
   "cell_type": "code",
   "execution_count": null,
   "id": "e0772240",
   "metadata": {},
   "outputs": [],
   "source": []
  },
  {
   "cell_type": "code",
   "execution_count": null,
   "id": "a2553b01",
   "metadata": {},
   "outputs": [],
   "source": []
  },
  {
   "cell_type": "code",
   "execution_count": null,
   "id": "bcb83c49",
   "metadata": {},
   "outputs": [],
   "source": []
  },
  {
   "cell_type": "code",
   "execution_count": null,
   "id": "31636f1a",
   "metadata": {},
   "outputs": [],
   "source": []
  },
  {
   "cell_type": "code",
   "execution_count": null,
   "id": "ee874980",
   "metadata": {},
   "outputs": [],
   "source": []
  },
  {
   "cell_type": "code",
   "execution_count": null,
   "id": "23a273dd",
   "metadata": {},
   "outputs": [],
   "source": []
  },
  {
   "cell_type": "code",
   "execution_count": null,
   "id": "4e56f8ff",
   "metadata": {},
   "outputs": [],
   "source": []
  },
  {
   "cell_type": "code",
   "execution_count": null,
   "id": "e235b59a",
   "metadata": {},
   "outputs": [],
   "source": []
  },
  {
   "cell_type": "code",
   "execution_count": null,
   "id": "aef82e49",
   "metadata": {},
   "outputs": [],
   "source": []
  },
  {
   "cell_type": "code",
   "execution_count": null,
   "id": "df5dc7d8",
   "metadata": {},
   "outputs": [],
   "source": []
  },
  {
   "cell_type": "code",
   "execution_count": null,
   "id": "54832b4f",
   "metadata": {},
   "outputs": [],
   "source": []
  }
 ],
 "metadata": {
  "kernelspec": {
   "display_name": "Python 3 (ipykernel)",
   "language": "python",
   "name": "python3"
  },
  "language_info": {
   "codemirror_mode": {
    "name": "ipython",
    "version": 3
   },
   "file_extension": ".py",
   "mimetype": "text/x-python",
   "name": "python",
   "nbconvert_exporter": "python",
   "pygments_lexer": "ipython3",
   "version": "3.10.9"
  }
 },
 "nbformat": 4,
 "nbformat_minor": 5
}
